{
 "cells": [
  {
   "cell_type": "code",
   "execution_count": 12,
   "metadata": {},
   "outputs": [],
   "source": [
    "import os\n",
    "import pandas as pd\n",
    "import numpy as np"
   ]
  },
  {
   "cell_type": "markdown",
   "metadata": {},
   "source": [
    "# Display Data about All Wildfire Incidents in Indonesia\n",
    "Gather information for all wildfire events in Sumatra"
   ]
  },
  {
   "cell_type": "code",
   "execution_count": 13,
   "metadata": {},
   "outputs": [],
   "source": [
    "pd.set_option('display.max_columns', None)\n",
    "pd.set_option('display.max_rows', 100)\n"
   ]
  },
  {
   "cell_type": "code",
   "execution_count": 18,
   "metadata": {},
   "outputs": [],
   "source": [
    "wf_data  = pd.read_csv(\"../data-total.csv\")\n",
    "wf_data.columns\n",
    "# rename columns\n",
    "wf_data.rename(columns={'Lat': 'lat', \n",
    "                        'Long': 'long', \n",
    "                        'Satellite': 'satellite', \n",
    "                        'Time_UTC': 'time_utc', \n",
    "                        'Date': 'date', \n",
    "                        'Source': 'source', \n",
    "                        'PROVINSI': 'provinsi',\n",
    "                        'KAB_KOTA': 'kab_kota'}, inplace=True)\n",
    "# adding '-' to date column values\n",
    "wf_data.date = pd.to_datetime(wf_data.date, format=\"%Y%m%d\")\n",
    "wf_data.date = wf_data.date.astype('string')"
   ]
  },
  {
   "cell_type": "code",
   "execution_count": 19,
   "metadata": {},
   "outputs": [],
   "source": [
    "# All provinces in sumatera\n",
    "sumatera_provinces = [\n",
    "    'SUMATERA UTARA',\n",
    "    'JAMBI',\n",
    "    'RIAU',\n",
    "    'SUMATERA BARAT',\n",
    "    'SUMATERA SELATAN',\n",
    "    'BENGKULU',\n",
    "    'LAMPUNG',\n",
    "    'ACEH'\n",
    "]\n",
    "# create filter so that only events in sumatera will be returned.\n",
    "sumatera_filter = wf_data['provinsi'].apply(lambda x: x in sumatera_provinces) \n",
    "sumatera_only = wf_data.loc[sumatera_filter]"
   ]
  },
  {
   "cell_type": "code",
   "execution_count": 20,
   "metadata": {
    "scrolled": false
   },
   "outputs": [
    {
     "name": "stdout",
     "output_type": "stream",
     "text": [
      "<class 'pandas.core.frame.DataFrame'>\n",
      "Int64Index: 7839 entries, 1 to 39670\n",
      "Data columns (total 11 columns):\n",
      " #   Column     Non-Null Count  Dtype  \n",
      "---  ------     --------------  -----  \n",
      " 0   lat        7839 non-null   float64\n",
      " 1   long       7839 non-null   float64\n",
      " 2   satellite  7839 non-null   object \n",
      " 3   time_utc   7839 non-null   object \n",
      " 4   date       7839 non-null   string \n",
      " 5   source     7839 non-null   object \n",
      " 6   provinsi   7839 non-null   object \n",
      " 7   kab_kota   7839 non-null   object \n",
      " 8   kec2006    7830 non-null   object \n",
      " 9   desaa2006  7830 non-null   object \n",
      " 10  nama_kaw   930 non-null    object \n",
      "dtypes: float64(2), object(8), string(1)\n",
      "memory usage: 734.9+ KB\n"
     ]
    },
    {
     "data": {
      "text/plain": [
       "None"
      ]
     },
     "metadata": {},
     "output_type": "display_data"
    },
    {
     "data": {
      "text/plain": [
       "array(['LAMPUNG', 'RIAU', 'SUMATERA UTARA', 'SUMATERA BARAT',\n",
       "       'SUMATERA SELATAN', 'ACEH', 'JAMBI', 'BENGKULU'], dtype=object)"
      ]
     },
     "metadata": {},
     "output_type": "display_data"
    },
    {
     "data": {
      "text/html": [
       "<div>\n",
       "<style scoped>\n",
       "    .dataframe tbody tr th:only-of-type {\n",
       "        vertical-align: middle;\n",
       "    }\n",
       "\n",
       "    .dataframe tbody tr th {\n",
       "        vertical-align: top;\n",
       "    }\n",
       "\n",
       "    .dataframe thead th {\n",
       "        text-align: right;\n",
       "    }\n",
       "</style>\n",
       "<table border=\"1\" class=\"dataframe\">\n",
       "  <thead>\n",
       "    <tr style=\"text-align: right;\">\n",
       "      <th></th>\n",
       "      <th>lat</th>\n",
       "      <th>long</th>\n",
       "      <th>satellite</th>\n",
       "      <th>time_utc</th>\n",
       "      <th>date</th>\n",
       "      <th>source</th>\n",
       "      <th>provinsi</th>\n",
       "      <th>kab_kota</th>\n",
       "      <th>kec2006</th>\n",
       "      <th>desaa2006</th>\n",
       "      <th>nama_kaw</th>\n",
       "    </tr>\n",
       "  </thead>\n",
       "  <tbody>\n",
       "    <tr>\n",
       "      <th>1</th>\n",
       "      <td>-5.06259</td>\n",
       "      <td>105.101</td>\n",
       "      <td>LPN-NPP</td>\n",
       "      <td>06:11:04 AM</td>\n",
       "      <td>2016-08-24</td>\n",
       "      <td>LAPAN</td>\n",
       "      <td>LAMPUNG</td>\n",
       "      <td>LAMPUNG TENGAH</td>\n",
       "      <td>ANAK TUHA</td>\n",
       "      <td>BUMI JAYA</td>\n",
       "      <td>NaN</td>\n",
       "    </tr>\n",
       "    <tr>\n",
       "      <th>4</th>\n",
       "      <td>1.18991</td>\n",
       "      <td>100.672</td>\n",
       "      <td>LPN-NPP</td>\n",
       "      <td>06:29:59 AM</td>\n",
       "      <td>2016-08-23</td>\n",
       "      <td>LAPAN</td>\n",
       "      <td>RIAU</td>\n",
       "      <td>ROKAN HULU</td>\n",
       "      <td>KECAMATAN KAPENUHAN</td>\n",
       "      <td>UPT SP IV KOTO TENGAH</td>\n",
       "      <td>NaN</td>\n",
       "    </tr>\n",
       "    <tr>\n",
       "      <th>5</th>\n",
       "      <td>2.31418</td>\n",
       "      <td>100.288</td>\n",
       "      <td>LPN-NPP</td>\n",
       "      <td>06:29:59 AM</td>\n",
       "      <td>2016-08-23</td>\n",
       "      <td>LAPAN</td>\n",
       "      <td>SUMATERA UTARA</td>\n",
       "      <td>LABUHANBATU</td>\n",
       "      <td>PANAI TENGAH</td>\n",
       "      <td>SELAT BETING</td>\n",
       "      <td>NaN</td>\n",
       "    </tr>\n",
       "    <tr>\n",
       "      <th>6</th>\n",
       "      <td>1.41833</td>\n",
       "      <td>100.752</td>\n",
       "      <td>LPN-NPP</td>\n",
       "      <td>06:29:59 AM</td>\n",
       "      <td>2016-08-23</td>\n",
       "      <td>LAPAN</td>\n",
       "      <td>RIAU</td>\n",
       "      <td>ROKAN HILIR</td>\n",
       "      <td>KECAMATAN PUJUD</td>\n",
       "      <td>SIARANG ARANG</td>\n",
       "      <td>NaN</td>\n",
       "    </tr>\n",
       "    <tr>\n",
       "      <th>8</th>\n",
       "      <td>1.38958</td>\n",
       "      <td>100.673</td>\n",
       "      <td>LPN-NPP</td>\n",
       "      <td>06:36:36 AM</td>\n",
       "      <td>2016-09-13</td>\n",
       "      <td>LAPAN</td>\n",
       "      <td>RIAU</td>\n",
       "      <td>ROKAN HILIR</td>\n",
       "      <td>KECAMATAN PUJUD</td>\n",
       "      <td>TELUK NAYANG</td>\n",
       "      <td>NaN</td>\n",
       "    </tr>\n",
       "  </tbody>\n",
       "</table>\n",
       "</div>"
      ],
      "text/plain": [
       "       lat     long satellite     time_utc        date source        provinsi  \\\n",
       "1 -5.06259  105.101   LPN-NPP  06:11:04 AM  2016-08-24  LAPAN         LAMPUNG   \n",
       "4  1.18991  100.672   LPN-NPP  06:29:59 AM  2016-08-23  LAPAN            RIAU   \n",
       "5  2.31418  100.288   LPN-NPP  06:29:59 AM  2016-08-23  LAPAN  SUMATERA UTARA   \n",
       "6  1.41833  100.752   LPN-NPP  06:29:59 AM  2016-08-23  LAPAN            RIAU   \n",
       "8  1.38958  100.673   LPN-NPP  06:36:36 AM  2016-09-13  LAPAN            RIAU   \n",
       "\n",
       "         kab_kota              kec2006              desaa2006 nama_kaw  \n",
       "1  LAMPUNG TENGAH            ANAK TUHA              BUMI JAYA      NaN  \n",
       "4      ROKAN HULU  KECAMATAN KAPENUHAN  UPT SP IV KOTO TENGAH      NaN  \n",
       "5     LABUHANBATU         PANAI TENGAH           SELAT BETING      NaN  \n",
       "6     ROKAN HILIR      KECAMATAN PUJUD          SIARANG ARANG      NaN  \n",
       "8     ROKAN HILIR      KECAMATAN PUJUD           TELUK NAYANG      NaN  "
      ]
     },
     "metadata": {},
     "output_type": "display_data"
    }
   ],
   "source": [
    "display(sumatera_only.info())\n",
    "display(sumatera_only.provinsi.unique())\n",
    "display(sumatera_only.head())"
   ]
  },
  {
   "cell_type": "code",
   "execution_count": 21,
   "metadata": {},
   "outputs": [],
   "source": [
    "sumatera_only.to_csv('sumatera.csv')"
   ]
  },
  {
   "cell_type": "markdown",
   "metadata": {},
   "source": [
    "# Install Google Earth Engine API\n",
    "Installation command can be done using pip command.\n",
    "Pip Command: \"pip install earthengine-api\" (for upgrading: \"pip install earthengine-api --upgrade\")"
   ]
  },
  {
   "cell_type": "code",
   "execution_count": 22,
   "metadata": {},
   "outputs": [
    {
     "name": "stdout",
     "output_type": "stream",
     "text": [
      "Requirement already satisfied: earthengine-api in c:\\users\\user\\anaconda3\\lib\\site-packages (0.1.293)\n",
      "Requirement already satisfied: future in c:\\users\\user\\anaconda3\\lib\\site-packages (from earthengine-api) (0.18.2)\n",
      "Requirement already satisfied: google-auth>=1.4.1 in c:\\users\\user\\anaconda3\\lib\\site-packages (from earthengine-api) (1.35.0)\n",
      "Requirement already satisfied: google-cloud-storage in c:\\users\\user\\anaconda3\\lib\\site-packages (from earthengine-api) (1.43.0)\n",
      "Requirement already satisfied: google-auth-httplib2>=0.0.3 in c:\\users\\user\\anaconda3\\lib\\site-packages (from earthengine-api) (0.1.0)\n",
      "Requirement already satisfied: httplib2shim in c:\\users\\user\\anaconda3\\lib\\site-packages (from earthengine-api) (0.0.3)\n",
      "Requirement already satisfied: six in c:\\users\\user\\anaconda3\\lib\\site-packages (from earthengine-api) (1.16.0)\n",
      "Requirement already satisfied: google-api-python-client<2,>=1.12.1 in c:\\users\\user\\anaconda3\\lib\\site-packages (from earthengine-api) (1.12.8)\n",
      "Requirement already satisfied: httplib2<1dev,>=0.9.2 in c:\\users\\user\\anaconda3\\lib\\site-packages (from earthengine-api) (0.20.2)\n",
      "Requirement already satisfied: uritemplate<4dev,>=3.0.0 in c:\\users\\user\\anaconda3\\lib\\site-packages (from google-api-python-client<2,>=1.12.1->earthengine-api) (3.0.1)\n",
      "Requirement already satisfied: google-api-core<2dev,>=1.21.0 in c:\\users\\user\\anaconda3\\lib\\site-packages (from google-api-python-client<2,>=1.12.1->earthengine-api) (1.31.5)\n",
      "Requirement already satisfied: cachetools<5.0,>=2.0.0 in c:\\users\\user\\anaconda3\\lib\\site-packages (from google-auth>=1.4.1->earthengine-api) (4.2.4)\n",
      "Requirement already satisfied: rsa<5,>=3.1.4 in c:\\users\\user\\anaconda3\\lib\\site-packages (from google-auth>=1.4.1->earthengine-api) (4.7.2)\n",
      "Requirement already satisfied: setuptools>=40.3.0 in c:\\users\\user\\anaconda3\\lib\\site-packages (from google-auth>=1.4.1->earthengine-api) (59.2.0)\n",
      "Requirement already satisfied: pyasn1-modules>=0.2.1 in c:\\users\\user\\anaconda3\\lib\\site-packages (from google-auth>=1.4.1->earthengine-api) (0.2.8)\n",
      "Requirement already satisfied: pyparsing!=3.0.0,!=3.0.1,!=3.0.2,!=3.0.3,<4,>=2.4.2 in c:\\users\\user\\anaconda3\\lib\\site-packages (from httplib2<1dev,>=0.9.2->earthengine-api) (2.4.7)\n",
      "Requirement already satisfied: google-resumable-media<3.0dev,>=1.3.0 in c:\\users\\user\\anaconda3\\lib\\site-packages (from google-cloud-storage->earthengine-api) (2.1.0)\n",
      "Requirement already satisfied: google-cloud-core<3.0dev,>=1.6.0 in c:\\users\\user\\anaconda3\\lib\\site-packages (from google-cloud-storage->earthengine-api) (2.2.1)\n",
      "Requirement already satisfied: protobuf in c:\\users\\user\\anaconda3\\lib\\site-packages (from google-cloud-storage->earthengine-api) (3.19.1)\n",
      "Requirement already satisfied: requests<3.0.0dev,>=2.18.0 in c:\\users\\user\\anaconda3\\lib\\site-packages (from google-cloud-storage->earthengine-api) (2.26.0)\n",
      "Requirement already satisfied: certifi in c:\\users\\user\\anaconda3\\lib\\site-packages (from httplib2shim->earthengine-api) (2021.10.8)\n",
      "Requirement already satisfied: urllib3 in c:\\users\\user\\anaconda3\\lib\\site-packages (from httplib2shim->earthengine-api) (1.26.7)\n",
      "Requirement already satisfied: pytz in c:\\users\\user\\anaconda3\\lib\\site-packages (from google-api-core<2dev,>=1.21.0->google-api-python-client<2,>=1.12.1->earthengine-api) (2020.1)\n",
      "Requirement already satisfied: packaging>=14.3 in c:\\users\\user\\anaconda3\\lib\\site-packages (from google-api-core<2dev,>=1.21.0->google-api-python-client<2,>=1.12.1->earthengine-api) (20.4)\n",
      "Requirement already satisfied: googleapis-common-protos<2.0dev,>=1.6.0 in c:\\users\\user\\anaconda3\\lib\\site-packages (from google-api-core<2dev,>=1.21.0->google-api-python-client<2,>=1.12.1->earthengine-api) (1.54.0)\n",
      "Requirement already satisfied: google-crc32c<2.0dev,>=1.0 in c:\\users\\user\\anaconda3\\lib\\site-packages (from google-resumable-media<3.0dev,>=1.3.0->google-cloud-storage->earthengine-api) (1.3.0)\n",
      "Requirement already satisfied: pyasn1<0.5.0,>=0.4.6 in c:\\users\\user\\anaconda3\\lib\\site-packages (from pyasn1-modules>=0.2.1->google-auth>=1.4.1->earthengine-api) (0.4.8)\n",
      "Requirement already satisfied: idna<4,>=2.5 in c:\\users\\user\\anaconda3\\lib\\site-packages (from requests<3.0.0dev,>=2.18.0->google-cloud-storage->earthengine-api) (3.3)\n",
      "Requirement already satisfied: charset-normalizer~=2.0.0 in c:\\users\\user\\anaconda3\\lib\\site-packages (from requests<3.0.0dev,>=2.18.0->google-cloud-storage->earthengine-api) (2.0.7)\n",
      "Requirement already satisfied: earthengine-api in c:\\users\\user\\anaconda3\\lib\\site-packages (0.1.293)\n",
      "Collecting earthengine-api\n",
      "  Downloading earthengine-api-0.1.297.tar.gz (232 kB)\n",
      "     -------------------------------------- 232.8/232.8 KB 3.6 MB/s eta 0:00:00\n",
      "  Preparing metadata (setup.py): started\n",
      "  Preparing metadata (setup.py): finished with status 'done'\n",
      "Requirement already satisfied: future in c:\\users\\user\\anaconda3\\lib\\site-packages (from earthengine-api) (0.18.2)\n",
      "Requirement already satisfied: google-cloud-storage in c:\\users\\user\\anaconda3\\lib\\site-packages (from earthengine-api) (1.43.0)\n",
      "Requirement already satisfied: google-api-python-client<2,>=1.12.1 in c:\\users\\user\\anaconda3\\lib\\site-packages (from earthengine-api) (1.12.8)\n",
      "Requirement already satisfied: google-auth>=1.4.1 in c:\\users\\user\\anaconda3\\lib\\site-packages (from earthengine-api) (1.35.0)\n",
      "Requirement already satisfied: google-auth-httplib2>=0.0.3 in c:\\users\\user\\anaconda3\\lib\\site-packages (from earthengine-api) (0.1.0)\n",
      "Requirement already satisfied: httplib2<1dev,>=0.9.2 in c:\\users\\user\\anaconda3\\lib\\site-packages (from earthengine-api) (0.20.2)\n",
      "Requirement already satisfied: httplib2shim in c:\\users\\user\\anaconda3\\lib\\site-packages (from earthengine-api) (0.0.3)\n",
      "Requirement already satisfied: six in c:\\users\\user\\anaconda3\\lib\\site-packages (from earthengine-api) (1.16.0)\n",
      "Requirement already satisfied: uritemplate<4dev,>=3.0.0 in c:\\users\\user\\anaconda3\\lib\\site-packages (from google-api-python-client<2,>=1.12.1->earthengine-api) (3.0.1)\n",
      "Requirement already satisfied: google-api-core<2dev,>=1.21.0 in c:\\users\\user\\anaconda3\\lib\\site-packages (from google-api-python-client<2,>=1.12.1->earthengine-api) (1.31.5)\n",
      "Requirement already satisfied: cachetools<5.0,>=2.0.0 in c:\\users\\user\\anaconda3\\lib\\site-packages (from google-auth>=1.4.1->earthengine-api) (4.2.4)\n",
      "Requirement already satisfied: pyasn1-modules>=0.2.1 in c:\\users\\user\\anaconda3\\lib\\site-packages (from google-auth>=1.4.1->earthengine-api) (0.2.8)\n",
      "Requirement already satisfied: setuptools>=40.3.0 in c:\\users\\user\\anaconda3\\lib\\site-packages (from google-auth>=1.4.1->earthengine-api) (59.2.0)\n",
      "Requirement already satisfied: rsa<5,>=3.1.4 in c:\\users\\user\\anaconda3\\lib\\site-packages (from google-auth>=1.4.1->earthengine-api) (4.7.2)\n",
      "Requirement already satisfied: pyparsing!=3.0.0,!=3.0.1,!=3.0.2,!=3.0.3,<4,>=2.4.2 in c:\\users\\user\\anaconda3\\lib\\site-packages (from httplib2<1dev,>=0.9.2->earthengine-api) (2.4.7)\n",
      "Requirement already satisfied: google-cloud-core<3.0dev,>=1.6.0 in c:\\users\\user\\anaconda3\\lib\\site-packages (from google-cloud-storage->earthengine-api) (2.2.1)\n",
      "Requirement already satisfied: requests<3.0.0dev,>=2.18.0 in c:\\users\\user\\anaconda3\\lib\\site-packages (from google-cloud-storage->earthengine-api) (2.26.0)\n",
      "Requirement already satisfied: protobuf in c:\\users\\user\\anaconda3\\lib\\site-packages (from google-cloud-storage->earthengine-api) (3.19.1)\n",
      "Requirement already satisfied: google-resumable-media<3.0dev,>=1.3.0 in c:\\users\\user\\anaconda3\\lib\\site-packages (from google-cloud-storage->earthengine-api) (2.1.0)\n",
      "Requirement already satisfied: certifi in c:\\users\\user\\anaconda3\\lib\\site-packages (from httplib2shim->earthengine-api) (2021.10.8)\n",
      "Requirement already satisfied: urllib3 in c:\\users\\user\\anaconda3\\lib\\site-packages (from httplib2shim->earthengine-api) (1.26.7)\n",
      "Requirement already satisfied: pytz in c:\\users\\user\\anaconda3\\lib\\site-packages (from google-api-core<2dev,>=1.21.0->google-api-python-client<2,>=1.12.1->earthengine-api) (2020.1)\n",
      "Requirement already satisfied: packaging>=14.3 in c:\\users\\user\\anaconda3\\lib\\site-packages (from google-api-core<2dev,>=1.21.0->google-api-python-client<2,>=1.12.1->earthengine-api) (20.4)\n",
      "Requirement already satisfied: googleapis-common-protos<2.0dev,>=1.6.0 in c:\\users\\user\\anaconda3\\lib\\site-packages (from google-api-core<2dev,>=1.21.0->google-api-python-client<2,>=1.12.1->earthengine-api) (1.54.0)\n",
      "Requirement already satisfied: google-crc32c<2.0dev,>=1.0 in c:\\users\\user\\anaconda3\\lib\\site-packages (from google-resumable-media<3.0dev,>=1.3.0->google-cloud-storage->earthengine-api) (1.3.0)\n",
      "Requirement already satisfied: pyasn1<0.5.0,>=0.4.6 in c:\\users\\user\\anaconda3\\lib\\site-packages (from pyasn1-modules>=0.2.1->google-auth>=1.4.1->earthengine-api) (0.4.8)\n",
      "Requirement already satisfied: idna<4,>=2.5 in c:\\users\\user\\anaconda3\\lib\\site-packages (from requests<3.0.0dev,>=2.18.0->google-cloud-storage->earthengine-api) (3.3)\n",
      "Requirement already satisfied: charset-normalizer~=2.0.0 in c:\\users\\user\\anaconda3\\lib\\site-packages (from requests<3.0.0dev,>=2.18.0->google-cloud-storage->earthengine-api) (2.0.7)\n",
      "Building wheels for collected packages: earthengine-api\n",
      "  Building wheel for earthengine-api (setup.py): started\n",
      "  Building wheel for earthengine-api (setup.py): finished with status 'done'\n",
      "  Created wheel for earthengine-api: filename=earthengine_api-0.1.297-py3-none-any.whl size=263802 sha256=e50073a0e2b320bad41658d03e36ec64e97357ea921cfcb353c773347619711e\n",
      "  Stored in directory: c:\\users\\user\\appdata\\local\\pip\\cache\\wheels\\c1\\03\\3a\\3e5a99e9ccbc825d5f7f4c6c74ec58c963aba2d1ac4addcc85\n",
      "Successfully built earthengine-api\n",
      "Installing collected packages: earthengine-api\n",
      "  Attempting uninstall: earthengine-api\n",
      "    Found existing installation: earthengine-api 0.1.293\n",
      "    Uninstalling earthengine-api-0.1.293:\n",
      "      Successfully uninstalled earthengine-api-0.1.293\n",
      "Successfully installed earthengine-api-0.1.297\n"
     ]
    },
    {
     "name": "stdout",
     "output_type": "stream",
     "text": [
      "Requirement already satisfied: folium in c:\\users\\user\\anaconda3\\lib\\site-packages (0.12.1.post1)\n",
      "Requirement already satisfied: requests in c:\\users\\user\\anaconda3\\lib\\site-packages (from folium) (2.26.0)\n",
      "Requirement already satisfied: jinja2>=2.9 in c:\\users\\user\\anaconda3\\lib\\site-packages (from folium) (2.11.2)\n",
      "Requirement already satisfied: numpy in c:\\users\\user\\anaconda3\\lib\\site-packages (from folium) (1.21.4)\n",
      "Requirement already satisfied: branca>=0.3.0 in c:\\users\\user\\anaconda3\\lib\\site-packages (from folium) (0.4.2)\n",
      "Requirement already satisfied: MarkupSafe>=0.23 in c:\\users\\user\\anaconda3\\lib\\site-packages (from jinja2>=2.9->folium) (1.1.1)\n",
      "Requirement already satisfied: certifi>=2017.4.17 in c:\\users\\user\\anaconda3\\lib\\site-packages (from requests->folium) (2021.10.8)\n",
      "Requirement already satisfied: urllib3<1.27,>=1.21.1 in c:\\users\\user\\anaconda3\\lib\\site-packages (from requests->folium) (1.26.7)\n",
      "Requirement already satisfied: charset-normalizer~=2.0.0 in c:\\users\\user\\anaconda3\\lib\\site-packages (from requests->folium) (2.0.7)\n",
      "Requirement already satisfied: idna<4,>=2.5 in c:\\users\\user\\anaconda3\\lib\\site-packages (from requests->folium) (3.3)\n"
     ]
    }
   ],
   "source": [
    "!pip install earthengine-api\n",
    "!pip install earthengine-api --upgrade\n",
    "!pip install folium"
   ]
  },
  {
   "cell_type": "markdown",
   "metadata": {},
   "source": [
    "# Import earth engine API which is called ee\n"
   ]
  },
  {
   "cell_type": "code",
   "execution_count": 23,
   "metadata": {},
   "outputs": [],
   "source": [
    "import ee\n",
    "import folium\n",
    "from folium import plugins"
   ]
  },
  {
   "cell_type": "code",
   "execution_count": 7,
   "metadata": {},
   "outputs": [
    {
     "data": {
      "text/html": [
       "<p>To authorize access needed by Earth Engine, open the following\n",
       "        URL in a web browser and follow the instructions:</p>\n",
       "        <p><a href=https://accounts.google.com/o/oauth2/auth?client_id=517222506229-vsmmajv00ul0bs7p89v5m89qs8eb9359.apps.googleusercontent.com&scope=https%3A%2F%2Fwww.googleapis.com%2Fauth%2Fearthengine+https%3A%2F%2Fwww.googleapis.com%2Fauth%2Fdevstorage.full_control&redirect_uri=urn%3Aietf%3Awg%3Aoauth%3A2.0%3Aoob&response_type=code&code_challenge=kVhfRWJwek0SlwOFJ61elzmaFxVsN8L6d-1R2zQJrII&code_challenge_method=S256>https://accounts.google.com/o/oauth2/auth?client_id=517222506229-vsmmajv00ul0bs7p89v5m89qs8eb9359.apps.googleusercontent.com&scope=https%3A%2F%2Fwww.googleapis.com%2Fauth%2Fearthengine+https%3A%2F%2Fwww.googleapis.com%2Fauth%2Fdevstorage.full_control&redirect_uri=urn%3Aietf%3Awg%3Aoauth%3A2.0%3Aoob&response_type=code&code_challenge=kVhfRWJwek0SlwOFJ61elzmaFxVsN8L6d-1R2zQJrII&code_challenge_method=S256</a></p>\n",
       "        <p>The authorization workflow will generate a code, which you\n",
       "        should paste in the box below</p>\n",
       "        "
      ],
      "text/plain": [
       "<IPython.core.display.HTML object>"
      ]
     },
     "metadata": {},
     "output_type": "display_data"
    },
    {
     "name": "stdout",
     "output_type": "stream",
     "text": [
      "Enter verification code: 4/1AX4XfWjBtx_dwxqoE5UGdF9UbMmyEbSZQ0nkUzagH3uikfh78azpZPs8Ue4\n",
      "\n",
      "Successfully saved authorization token.\n"
     ]
    }
   ],
   "source": [
    "# Authenticate earth engine servers\n",
    "ee.Authenticate()"
   ]
  },
  {
   "cell_type": "code",
   "execution_count": 8,
   "metadata": {},
   "outputs": [],
   "source": [
    "#initialize API\n",
    "ee.Initialize()"
   ]
  },
  {
   "cell_type": "code",
   "execution_count": 24,
   "metadata": {},
   "outputs": [],
   "source": [
    "def add_ee_layer(self, ee_image_object, vis_params, name):\n",
    "    map_id_dict = ee.ImageCollection(ee_image_object).getMapId(vis_params)\n",
    "    folium.raster_layers.TileLayer(\n",
    "      tiles=map_id_dict['tile_fetcher'].url_format,\n",
    "      attr='Map Data &copy; <a href=\"https://earthengine.google.com/\">Google Earth Engine</a>',\n",
    "      name=name,\n",
    "      overlay=True,\n",
    "      control=True\n",
    "  ).add_to(self)\n",
    "\n",
    "folium.Map.add_ee_layer = add_ee_layer"
   ]
  },
  {
   "cell_type": "code",
   "execution_count": 25,
   "metadata": {
    "scrolled": true
   },
   "outputs": [],
   "source": [
    "# def applyScaleFactors(collection_name):\n",
    "#     opticalBands = collection_name.select('SR_B.').multiply(0.0000275).add(-0.2)\n",
    "#     thermalBands = collection_name.select('ST_B6').multiply(0.00341802).add(149.0)\n",
    "#     return collection_name.addBands(opticalBands, None, True).addBands(thermalBands, None, True)\n",
    "\n",
    "# cloud masking\n",
    "def cloudMask(collection_name):\n",
    "    qa_band = collection_name.select('BQA')\n",
    "    cloud_or_shadow = qa_band.bitwiseAnd(1<<4)\\\n",
    "                      .And(qa_band.bitwiseAnd(1<<6))\\\n",
    "                      .Or(qa_band.bitwiseAnd(1<<8))\\\n",
    "                      .Or(qa_band.bitwiseAnd(1<<12))\n",
    "    masked = collection_name.mask()\n",
    "    return collection_name.updateMask(cloud_or_shadow.Not())\\\n",
    "                          .updateMask(masked) \n",
    "\n",
    "# Calculate Normalized Burned Ratio\n",
    "def calculateNBR(collection_name, band_nir_swir):\n",
    "    nir  = collection_name.select(band_nir_swir[0])\n",
    "    swir = collection_name.select(band_nir_swir[1])\n",
    "    return nir.subtract(swir).divide(nir.add(swir))"
   ]
  },
  {
   "cell_type": "markdown",
   "metadata": {},
   "source": [
    "# Satellite Imagery Discovery\n",
    "Date must be long enough for the satellite to capture the image, e.g. 16 days, 24 days, or evenr 365.\n"
   ]
  },
  {
   "cell_type": "code",
   "execution_count": 27,
   "metadata": {
    "scrolled": false
   },
   "outputs": [
    {
     "data": {
      "text/html": [
       "<div style=\"width:100%;\"><div style=\"position:relative;width:100%;height:0;padding-bottom:60%;\"><span style=\"color:#565656\">Make this Notebook Trusted to load map: File -> Trust Notebook</span><iframe src=\"about:blank\" style=\"position:absolute;width:100%;height:100%;left:0;top:0;border:none !important;\" data-html=%3C%21DOCTYPE%20html%3E%0A%3Chead%3E%20%20%20%20%0A%20%20%20%20%3Cmeta%20http-equiv%3D%22content-type%22%20content%3D%22text/html%3B%20charset%3DUTF-8%22%20/%3E%0A%20%20%20%20%0A%20%20%20%20%20%20%20%20%3Cscript%3E%0A%20%20%20%20%20%20%20%20%20%20%20%20L_NO_TOUCH%20%3D%20false%3B%0A%20%20%20%20%20%20%20%20%20%20%20%20L_DISABLE_3D%20%3D%20false%3B%0A%20%20%20%20%20%20%20%20%3C/script%3E%0A%20%20%20%20%0A%20%20%20%20%3Cstyle%3Ehtml%2C%20body%20%7Bwidth%3A%20100%25%3Bheight%3A%20100%25%3Bmargin%3A%200%3Bpadding%3A%200%3B%7D%3C/style%3E%0A%20%20%20%20%3Cstyle%3E%23map%20%7Bposition%3Aabsolute%3Btop%3A0%3Bbottom%3A0%3Bright%3A0%3Bleft%3A0%3B%7D%3C/style%3E%0A%20%20%20%20%3Cscript%20src%3D%22https%3A//cdn.jsdelivr.net/npm/leaflet%401.6.0/dist/leaflet.js%22%3E%3C/script%3E%0A%20%20%20%20%3Cscript%20src%3D%22https%3A//code.jquery.com/jquery-1.12.4.min.js%22%3E%3C/script%3E%0A%20%20%20%20%3Cscript%20src%3D%22https%3A//maxcdn.bootstrapcdn.com/bootstrap/3.2.0/js/bootstrap.min.js%22%3E%3C/script%3E%0A%20%20%20%20%3Cscript%20src%3D%22https%3A//cdnjs.cloudflare.com/ajax/libs/Leaflet.awesome-markers/2.0.2/leaflet.awesome-markers.js%22%3E%3C/script%3E%0A%20%20%20%20%3Clink%20rel%3D%22stylesheet%22%20href%3D%22https%3A//cdn.jsdelivr.net/npm/leaflet%401.6.0/dist/leaflet.css%22/%3E%0A%20%20%20%20%3Clink%20rel%3D%22stylesheet%22%20href%3D%22https%3A//maxcdn.bootstrapcdn.com/bootstrap/3.2.0/css/bootstrap.min.css%22/%3E%0A%20%20%20%20%3Clink%20rel%3D%22stylesheet%22%20href%3D%22https%3A//maxcdn.bootstrapcdn.com/bootstrap/3.2.0/css/bootstrap-theme.min.css%22/%3E%0A%20%20%20%20%3Clink%20rel%3D%22stylesheet%22%20href%3D%22https%3A//maxcdn.bootstrapcdn.com/font-awesome/4.6.3/css/font-awesome.min.css%22/%3E%0A%20%20%20%20%3Clink%20rel%3D%22stylesheet%22%20href%3D%22https%3A//cdnjs.cloudflare.com/ajax/libs/Leaflet.awesome-markers/2.0.2/leaflet.awesome-markers.css%22/%3E%0A%20%20%20%20%3Clink%20rel%3D%22stylesheet%22%20href%3D%22https%3A//cdn.jsdelivr.net/gh/python-visualization/folium/folium/templates/leaflet.awesome.rotate.min.css%22/%3E%0A%20%20%20%20%0A%20%20%20%20%20%20%20%20%20%20%20%20%3Cmeta%20name%3D%22viewport%22%20content%3D%22width%3Ddevice-width%2C%0A%20%20%20%20%20%20%20%20%20%20%20%20%20%20%20%20initial-scale%3D1.0%2C%20maximum-scale%3D1.0%2C%20user-scalable%3Dno%22%20/%3E%0A%20%20%20%20%20%20%20%20%20%20%20%20%3Cstyle%3E%0A%20%20%20%20%20%20%20%20%20%20%20%20%20%20%20%20%23map_9c4f8479d22c453ab2cd73173a487bf2%20%7B%0A%20%20%20%20%20%20%20%20%20%20%20%20%20%20%20%20%20%20%20%20position%3A%20relative%3B%0A%20%20%20%20%20%20%20%20%20%20%20%20%20%20%20%20%20%20%20%20width%3A%20100.0%25%3B%0A%20%20%20%20%20%20%20%20%20%20%20%20%20%20%20%20%20%20%20%20height%3A%20100.0%25%3B%0A%20%20%20%20%20%20%20%20%20%20%20%20%20%20%20%20%20%20%20%20left%3A%200.0%25%3B%0A%20%20%20%20%20%20%20%20%20%20%20%20%20%20%20%20%20%20%20%20top%3A%200.0%25%3B%0A%20%20%20%20%20%20%20%20%20%20%20%20%20%20%20%20%7D%0A%20%20%20%20%20%20%20%20%20%20%20%20%3C/style%3E%0A%20%20%20%20%20%20%20%20%0A%3C/head%3E%0A%3Cbody%3E%20%20%20%20%0A%20%20%20%20%0A%20%20%20%20%20%20%20%20%20%20%20%20%3Cdiv%20class%3D%22folium-map%22%20id%3D%22map_9c4f8479d22c453ab2cd73173a487bf2%22%20%3E%3C/div%3E%0A%20%20%20%20%20%20%20%20%0A%3C/body%3E%0A%3Cscript%3E%20%20%20%20%0A%20%20%20%20%0A%20%20%20%20%20%20%20%20%20%20%20%20var%20map_9c4f8479d22c453ab2cd73173a487bf2%20%3D%20L.map%28%0A%20%20%20%20%20%20%20%20%20%20%20%20%20%20%20%20%22map_9c4f8479d22c453ab2cd73173a487bf2%22%2C%0A%20%20%20%20%20%20%20%20%20%20%20%20%20%20%20%20%7B%0A%20%20%20%20%20%20%20%20%20%20%20%20%20%20%20%20%20%20%20%20center%3A%20%5B-4.131069999999999%2C%20104.014%5D%2C%0A%20%20%20%20%20%20%20%20%20%20%20%20%20%20%20%20%20%20%20%20crs%3A%20L.CRS.EPSG3857%2C%0A%20%20%20%20%20%20%20%20%20%20%20%20%20%20%20%20%20%20%20%20zoom%3A%2012.5%2C%0A%20%20%20%20%20%20%20%20%20%20%20%20%20%20%20%20%20%20%20%20zoomControl%3A%20true%2C%0A%20%20%20%20%20%20%20%20%20%20%20%20%20%20%20%20%20%20%20%20preferCanvas%3A%20false%2C%0A%20%20%20%20%20%20%20%20%20%20%20%20%20%20%20%20%7D%0A%20%20%20%20%20%20%20%20%20%20%20%20%29%3B%0A%0A%20%20%20%20%20%20%20%20%20%20%20%20%0A%0A%20%20%20%20%20%20%20%20%0A%20%20%20%20%0A%20%20%20%20%20%20%20%20%20%20%20%20var%20tile_layer_0d067983b9794877b2a85562d03a0e91%20%3D%20L.tileLayer%28%0A%20%20%20%20%20%20%20%20%20%20%20%20%20%20%20%20%22https%3A//%7Bs%7D.tile.openstreetmap.org/%7Bz%7D/%7Bx%7D/%7By%7D.png%22%2C%0A%20%20%20%20%20%20%20%20%20%20%20%20%20%20%20%20%7B%22attribution%22%3A%20%22Data%20by%20%5Cu0026copy%3B%20%5Cu003ca%20href%3D%5C%22http%3A//openstreetmap.org%5C%22%5Cu003eOpenStreetMap%5Cu003c/a%5Cu003e%2C%20under%20%5Cu003ca%20href%3D%5C%22http%3A//www.openstreetmap.org/copyright%5C%22%5Cu003eODbL%5Cu003c/a%5Cu003e.%22%2C%20%22detectRetina%22%3A%20false%2C%20%22maxNativeZoom%22%3A%2018%2C%20%22maxZoom%22%3A%2018%2C%20%22minZoom%22%3A%200%2C%20%22noWrap%22%3A%20false%2C%20%22opacity%22%3A%201%2C%20%22subdomains%22%3A%20%22abc%22%2C%20%22tms%22%3A%20false%7D%0A%20%20%20%20%20%20%20%20%20%20%20%20%29.addTo%28map_9c4f8479d22c453ab2cd73173a487bf2%29%3B%0A%20%20%20%20%20%20%20%20%0A%20%20%20%20%0A%20%20%20%20%20%20%20%20%20%20%20%20var%20marker_2763a00ab6ed4832b8a6cc5b203dfcc2%20%3D%20L.marker%28%0A%20%20%20%20%20%20%20%20%20%20%20%20%20%20%20%20%5B-4.131069999999999%2C%20104.014%5D%2C%0A%20%20%20%20%20%20%20%20%20%20%20%20%20%20%20%20%7B%7D%0A%20%20%20%20%20%20%20%20%20%20%20%20%29.addTo%28map_9c4f8479d22c453ab2cd73173a487bf2%29%3B%0A%20%20%20%20%20%20%20%20%0A%20%20%20%20%0A%20%20%20%20%20%20%20%20var%20popup_c85f0bb8557b47a29e4e7d61a472ff67%20%3D%20L.popup%28%7B%22maxWidth%22%3A%20%22100%25%22%7D%29%3B%0A%0A%20%20%20%20%20%20%20%20%0A%20%20%20%20%20%20%20%20%20%20%20%20var%20html_bf40081c01a54ffaafde241d189ae362%20%3D%20%24%28%60%3Cdiv%20id%3D%22html_bf40081c01a54ffaafde241d189ae362%22%20style%3D%22width%3A%20100.0%25%3B%20height%3A%20100.0%25%3B%22%3E1%20%20%20%20%20%20%20%20%20%20%20%20%20%20%20%20%20%20%20%20BUMI%20JAYA%204%20%20%20%20%20%20%20%20UPT%20SP%20IV%20KOTO%20TENGAH%205%20%20%20%20%20%20%20%20%20%20%20%20%20%20%20%20%20SELAT%20BETING%206%20%20%20%20%20%20%20%20%20%20%20%20%20%20%20%20SIARANG%20ARANG%208%20%20%20%20%20%20%20%20%20%20%20%20%20%20%20%20%20TELUK%20NAYANG%20%20%20%20%20%20%20%20%20%20%20%20%20%20%20%20%20%20...%20%20%20%20%20%20%20%20%20%20%2039497%20%20%20%20%20%20%20%20%20%20%20%20%20SUNGAI%20LINAU%2039498%20%20%20%20%20%20%20%20%20%20TAMIANG%20BATAHAN%2039559%20%20%20%20%20%20%20TANJUNG%20RAYA%20GIHAM%2039560%20%20%20%20%20%20%20BRATASENA%20ADIWARNA%2039670%20%20%20%20%20%20%20%20%20%20%20%20%20%20%20BARIH%20LHOK%20Name%3A%20desaa2006%2C%20Length%3A%207839%2C%20dtype%3A%20object%3C/div%3E%60%29%5B0%5D%3B%0A%20%20%20%20%20%20%20%20%20%20%20%20popup_c85f0bb8557b47a29e4e7d61a472ff67.setContent%28html_bf40081c01a54ffaafde241d189ae362%29%3B%0A%20%20%20%20%20%20%20%20%0A%0A%20%20%20%20%20%20%20%20marker_2763a00ab6ed4832b8a6cc5b203dfcc2.bindPopup%28popup_c85f0bb8557b47a29e4e7d61a472ff67%29%0A%20%20%20%20%20%20%20%20%3B%0A%0A%20%20%20%20%20%20%20%20%0A%20%20%20%20%0A%20%20%20%20%0A%20%20%20%20%20%20%20%20%20%20%20%20var%20tile_layer_731e78825d96454897ca718560ed738a%20%3D%20L.tileLayer%28%0A%20%20%20%20%20%20%20%20%20%20%20%20%20%20%20%20%22https%3A//earthengine.googleapis.com/v1alpha/projects/earthengine-legacy/maps/4add1edd549d9a60e2234ced7664d245-f68c09b70e1a9b8958797033313522c8/tiles/%7Bz%7D/%7Bx%7D/%7By%7D%22%2C%0A%20%20%20%20%20%20%20%20%20%20%20%20%20%20%20%20%7B%22attribution%22%3A%20%22Map%20Data%20%5Cu0026copy%3B%20%5Cu003ca%20href%3D%5C%22https%3A//earthengine.google.com/%5C%22%5Cu003eGoogle%20Earth%20Engine%5Cu003c/a%5Cu003e%22%2C%20%22detectRetina%22%3A%20false%2C%20%22maxNativeZoom%22%3A%2018%2C%20%22maxZoom%22%3A%2018%2C%20%22minZoom%22%3A%200%2C%20%22noWrap%22%3A%20false%2C%20%22opacity%22%3A%201%2C%20%22subdomains%22%3A%20%22abc%22%2C%20%22tms%22%3A%20false%7D%0A%20%20%20%20%20%20%20%20%20%20%20%20%29.addTo%28map_9c4f8479d22c453ab2cd73173a487bf2%29%3B%0A%20%20%20%20%20%20%20%20%0A%3C/script%3E onload=\"this.contentDocument.open();this.contentDocument.write(    decodeURIComponent(this.getAttribute('data-html')));this.contentDocument.close();\" allowfullscreen webkitallowfullscreen mozallowfullscreen></iframe></div></div>"
      ],
      "text/plain": [
       "<folium.folium.Map at 0x24007c2b670>"
      ]
     },
     "metadata": {},
     "output_type": "display_data"
    }
   ],
   "source": [
    "####################################################lANDSAT#####################################################################\n",
    "row = 836\n",
    "coordinates = [float(sumatera_only.lat.values[row]), float(sumatera_only.long.values[row])]\n",
    "\n",
    "# filter image collection\n",
    "# set base date\n",
    "base_date = ee.Date(sumatera_only.date.values[row])\n",
    "\n",
    "# set geometry point\n",
    "point = ee.Geometry.Point(sumatera_only.long.values[row], sumatera_only.lat.values[row])\n",
    "\n",
    "# pre fire\n",
    "prefire_date_start = ee.Date(base_date.advance(-365, 'day'))\n",
    "prefire_date_end = ee.Date(base_date.advance(-1, 'day'))\n",
    "\n",
    "# 'LANDSAT/LC08/C01/T1_TOA'\n",
    "\n",
    "pre_landsat_collection = ee.ImageCollection('LANDSAT/LC08/C01/T1_TOA')\\\n",
    "                       .filterDate(prefire_date_start, prefire_date_end)\\\n",
    "                       .filterMetadata('CLOUD_COVER_LAND', 'less_than', 15)\\\n",
    "                       .filterBounds(point)\\\n",
    "                       .map(cloudMask)\\\n",
    "                       .mosaic()\n",
    "\n",
    "\n",
    "#                        .map(cloudMask)\\\n",
    "#                        .mosaic()\\\n",
    "#                        .filterDate(prefire_date_start, prefire_date_end)\\\n",
    "#                        .filterBounds(point)\\\n",
    "#                        .filterMetadata('IMAGE_QUALITY', 'equals', 9)\\\n",
    "#                        .map(cloudMask)\\\n",
    "#                        .mosaic()\\\n",
    "#                        .sort(\"CLOUD_COVER\")\\\n",
    "#                        .first()\n",
    "\n",
    "# Calculate NBR for pre fire\n",
    "pre_nbr = calculateNBR(pre_landsat_collection, ['B5', 'B7'])\n",
    "\n",
    "# post fire\n",
    "postfire_date_start = ee.Date(base_date.advance(0, 'day'))\n",
    "postfire_date_end = ee.Date(base_date.advance(365, 'day'))\n",
    "\n",
    "post_landsat_collection = ee.ImageCollection('LANDSAT/LC08/C01/T1_TOA')\\\n",
    "                       .filterDate(postfire_date_start, postfire_date_end)\\\n",
    "                       .filterBounds(point)\\\n",
    "                       .map(cloudMask)\\\n",
    "                       .mosaic()\n",
    "#                        .map(cloudMask)\\\n",
    "#                        .mosaic()\\\n",
    "#                        .map(cloudMask)\\\n",
    "#                        .mosaic()\\\n",
    "#                        .sort(\"CLOUD_COVER\")\\\n",
    "#                        .first()\n",
    "\n",
    "# Calculate NBR for post fire\n",
    "post_nbr = calculateNBR(post_landsat_collection, ['B5', 'B7'])\n",
    "\n",
    "# calculate delta NBR\n",
    "delta_nbr = pre_nbr.subtract(post_nbr).rename('DELTA_NBR')\n",
    "post_landsat_collection = post_landsat_collection.addBands(delta_nbr)\n",
    "\n",
    "\n",
    "map_landsat = folium.Map(location=coordinates, zoom_start=12.5)\n",
    "folium.Marker(coordinates, popup=sumatera_only.desaa2006).add_to(map_landsat)\n",
    "\n",
    "image_viz_params = {\n",
    "    'bands': ['DELTA_NBR'],\n",
    "    'min': 0.0,\n",
    "    'max': 0.3,\n",
    "}\n",
    "\n",
    "map_landsat.add_ee_layer(post_landsat_collection, image_viz_params, None)\n",
    "\n",
    "display(map_landsat)\n"
   ]
  },
  {
   "cell_type": "markdown",
   "metadata": {},
   "source": [
    "# Data Preprocessing\n",
    "This data preprocessing will involve:\n",
    "1. "
   ]
  },
  {
   "cell_type": "code",
   "execution_count": 1,
   "metadata": {},
   "outputs": [
    {
     "ename": "NameError",
     "evalue": "name 'sumatera_only' is not defined",
     "output_type": "error",
     "traceback": [
      "\u001b[1;31m---------------------------------------------------------------------------\u001b[0m",
      "\u001b[1;31mNameError\u001b[0m                                 Traceback (most recent call last)",
      "\u001b[1;32m<ipython-input-1-fd561f5f2ea4>\u001b[0m in \u001b[0;36m<module>\u001b[1;34m\u001b[0m\n\u001b[0;32m      1\u001b[0m \u001b[1;31m####################################################SENTINEL#####################################################################\u001b[0m\u001b[1;33m\u001b[0m\u001b[1;33m\u001b[0m\u001b[1;33m\u001b[0m\u001b[0m\n\u001b[0;32m      2\u001b[0m \u001b[0mrow\u001b[0m \u001b[1;33m=\u001b[0m \u001b[1;36m111\u001b[0m\u001b[1;33m\u001b[0m\u001b[1;33m\u001b[0m\u001b[0m\n\u001b[1;32m----> 3\u001b[1;33m \u001b[0mcoordinates\u001b[0m \u001b[1;33m=\u001b[0m \u001b[1;33m[\u001b[0m\u001b[0mfloat\u001b[0m\u001b[1;33m(\u001b[0m\u001b[0msumatera_only\u001b[0m\u001b[1;33m.\u001b[0m\u001b[0mlat\u001b[0m\u001b[1;33m.\u001b[0m\u001b[0mvalues\u001b[0m\u001b[1;33m[\u001b[0m\u001b[0mrow\u001b[0m\u001b[1;33m]\u001b[0m\u001b[1;33m)\u001b[0m\u001b[1;33m,\u001b[0m \u001b[0mfloat\u001b[0m\u001b[1;33m(\u001b[0m\u001b[0msumatera_only\u001b[0m\u001b[1;33m.\u001b[0m\u001b[0mlong\u001b[0m\u001b[1;33m.\u001b[0m\u001b[0mvalues\u001b[0m\u001b[1;33m[\u001b[0m\u001b[0mrow\u001b[0m\u001b[1;33m]\u001b[0m\u001b[1;33m)\u001b[0m\u001b[1;33m]\u001b[0m\u001b[1;33m\u001b[0m\u001b[1;33m\u001b[0m\u001b[0m\n\u001b[0m\u001b[0;32m      4\u001b[0m \u001b[1;33m\u001b[0m\u001b[0m\n\u001b[0;32m      5\u001b[0m \u001b[0mnir\u001b[0m \u001b[1;33m=\u001b[0m \u001b[1;34m'B8'\u001b[0m\u001b[1;33m\u001b[0m\u001b[1;33m\u001b[0m\u001b[0m\n",
      "\u001b[1;31mNameError\u001b[0m: name 'sumatera_only' is not defined"
     ]
    }
   ],
   "source": [
    "####################################################SENTINEL#####################################################################\n",
    "row = 111\n",
    "coordinates = [float(sumatera_only.lat.values[row]), float(sumatera_only.long.values[row])]\n",
    "\n",
    "nir = 'B8'\n",
    "nir = 'B12'\n",
    "# filter image collection\n",
    "# set base date\n",
    "base_date = ee.Date(sumatera_only.date.values[row])\n",
    "\n",
    "# set geometry point\n",
    "point = ee.Geometry.Point(sumatera_only.long.values[row], sumatera_only.lat.values[row])\n",
    "\n",
    "# pre fire\n",
    "prefire_date_start = ee.Date(base_date.advance(-365, 'day'))\n",
    "prefire_date_end = ee.Date(base_date.advance(-1, 'day'))\n",
    "\n",
    "# 'LANDSAT/LC08/C01/T1_TOA'\n",
    "\n",
    "pre_landsat_collection = ee.ImageCollection('COPERNICUS/S2')\\\n",
    "                           .filterDate(prefire_date_start, prefire_date_end)\\\n",
    "                           .filter(ee.Filter.lessThanOrEqualsss('CLOUDY_PIXEL_PERCENTAGE', 10))\\\n",
    "                           .map(maskS2clouds)\\\n",
    "                           .mosaic()\n",
    "\n",
    "\n",
    "# Calculate NBR for pre fire\n",
    "pre_nbr = calculateNBR(pre_landsat_collection, [nir, swir])\n",
    "\n",
    "# post fire\n",
    "postfire_date_start = ee.Date(base_date.advance(1, 'day'))\n",
    "postfire_date_end = ee.Date(base_date.advance(365, 'day'))\n",
    "\n",
    "post_landsat_collection = ee.ImageCollection('COPERNICUS/S2')\\\n",
    "                           .filterDate(postfire_date_start, postfire_date_end)\\\n",
    "                           .filter(ee.Filter.lessThanOrEqualsss('CLOUDY_PIXEL_PERCENTAGE', 10))\\\n",
    "                           .map(maskS2clouds)\\\n",
    "                           .mosaic()\n",
    "\n",
    "\n",
    "# # Calculate NBR for post fire\n",
    "post_nbr = calculateNBR(post_landsat_collection, [nir, swir])\n",
    "\n",
    "# # calculate delta NBR\n",
    "delta_nbr = pre_nbr.subtract(post_nbr).rename('DELTA_NBR')\n",
    "post_landsat_collection = post_landsat_collection.addBands(delta_nbr)\n",
    "\n",
    "\n",
    "map_landsat = folium.Map(location=coordinates, zoom_start=12)\n",
    "folium.Marker(coordinates, popup=sumatera_only.desaa2006).add_to(map_landsat)\n",
    "\n",
    "visualization = {\n",
    "    'min': 0.0,\n",
    "    'max': 0.3,\n",
    "    'bands': ['DELTA_NBR', 'B4','B2'],\n",
    "}\n",
    "\n",
    "map_landsat.add_ee_layer(post_landsat_collection, visualization, None)\n",
    "display(map_landsat)"
   ]
  },
  {
   "cell_type": "code",
   "execution_count": null,
   "metadata": {},
   "outputs": [],
   "source": []
  },
  {
   "cell_type": "code",
   "execution_count": null,
   "metadata": {},
   "outputs": [],
   "source": []
  }
 ],
 "metadata": {
  "kernelspec": {
   "display_name": "Python 3",
   "language": "python",
   "name": "python3"
  },
  "language_info": {
   "codemirror_mode": {
    "name": "ipython",
    "version": 3
   },
   "file_extension": ".py",
   "mimetype": "text/x-python",
   "name": "python",
   "nbconvert_exporter": "python",
   "pygments_lexer": "ipython3",
   "version": "3.8.5"
  }
 },
 "nbformat": 4,
 "nbformat_minor": 4
}
