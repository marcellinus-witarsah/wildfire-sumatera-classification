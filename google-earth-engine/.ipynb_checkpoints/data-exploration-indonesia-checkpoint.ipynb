{
 "cells": [
  {
   "cell_type": "code",
   "execution_count": 1,
   "metadata": {},
   "outputs": [],
   "source": [
    "import os\n",
    "import pandas as pd\n",
    "import numpy as np"
   ]
  },
  {
   "cell_type": "markdown",
   "metadata": {},
   "source": [
    "# Display Data about All Wildfire Incidents in Indonesia\n",
    "Gather information for all wildfire events in Sumatra"
   ]
  },
  {
   "cell_type": "code",
   "execution_count": 2,
   "metadata": {},
   "outputs": [],
   "source": [
    "pd.set_option('display.max_columns', None)\n",
    "pd.set_option('display.max_rows', 100)\n"
   ]
  },
  {
   "cell_type": "code",
   "execution_count": 3,
   "metadata": {},
   "outputs": [],
   "source": [
    "df = pd.read_csv(\"../data-total.csv\")\n",
    "df.columns\n",
    "# rename columns\n",
    "df.rename(columns={ 'Lat': 'lat', \n",
    "                    'Long': 'long', \n",
    "                    'Satellite': 'satellite', \n",
    "                    'Time_UTC': 'time_utc', \n",
    "                    'Date': 'date', \n",
    "                    'Source': 'source', \n",
    "                    'PROVINSI': 'provinsi',\n",
    "                    'KAB_KOTA': 'kab_kota'}, inplace=True)\n",
    "# adding '-' to date column values\n",
    "df.date = pd.to_datetime(df.date, format=\"%Y%m%d\")\n",
    "df.date = df.date.astype('string')"
   ]
  },
  {
   "cell_type": "code",
   "execution_count": 4,
   "metadata": {},
   "outputs": [
    {
     "data": {
      "text/html": [
       "<div>\n",
       "<style scoped>\n",
       "    .dataframe tbody tr th:only-of-type {\n",
       "        vertical-align: middle;\n",
       "    }\n",
       "\n",
       "    .dataframe tbody tr th {\n",
       "        vertical-align: top;\n",
       "    }\n",
       "\n",
       "    .dataframe thead th {\n",
       "        text-align: right;\n",
       "    }\n",
       "</style>\n",
       "<table border=\"1\" class=\"dataframe\">\n",
       "  <thead>\n",
       "    <tr style=\"text-align: right;\">\n",
       "      <th></th>\n",
       "      <th>lat</th>\n",
       "      <th>long</th>\n",
       "      <th>satellite</th>\n",
       "      <th>time_utc</th>\n",
       "      <th>date</th>\n",
       "      <th>source</th>\n",
       "      <th>provinsi</th>\n",
       "      <th>kab_kota</th>\n",
       "      <th>kec2006</th>\n",
       "      <th>desaa2006</th>\n",
       "      <th>nama_kaw</th>\n",
       "    </tr>\n",
       "  </thead>\n",
       "  <tbody>\n",
       "    <tr>\n",
       "      <th>0</th>\n",
       "      <td>-2.977430</td>\n",
       "      <td>112.868</td>\n",
       "      <td>LPN-NPP</td>\n",
       "      <td>05:50:44 AM</td>\n",
       "      <td>2016-08-25</td>\n",
       "      <td>LAPAN</td>\n",
       "      <td>KALIMANTAN TENGAH</td>\n",
       "      <td>KOTAWARINGIN TIMUR</td>\n",
       "      <td>MENTAYA HILIR SELATAN</td>\n",
       "      <td>SAMUDA BESAR</td>\n",
       "      <td>NaN</td>\n",
       "    </tr>\n",
       "    <tr>\n",
       "      <th>1</th>\n",
       "      <td>-5.062590</td>\n",
       "      <td>105.101</td>\n",
       "      <td>LPN-NPP</td>\n",
       "      <td>06:11:04 AM</td>\n",
       "      <td>2016-08-24</td>\n",
       "      <td>LAPAN</td>\n",
       "      <td>LAMPUNG</td>\n",
       "      <td>LAMPUNG TENGAH</td>\n",
       "      <td>ANAK TUHA</td>\n",
       "      <td>BUMI JAYA</td>\n",
       "      <td>NaN</td>\n",
       "    </tr>\n",
       "    <tr>\n",
       "      <th>2</th>\n",
       "      <td>-8.293230</td>\n",
       "      <td>130.812</td>\n",
       "      <td>LPN-NPP</td>\n",
       "      <td>04:30:05 AM</td>\n",
       "      <td>2016-08-24</td>\n",
       "      <td>LAPAN</td>\n",
       "      <td>MALUKU</td>\n",
       "      <td>MALUKU TENGGARA BARAT</td>\n",
       "      <td>TANIMBAR SELATAN DAYA</td>\n",
       "      <td>WERAIN</td>\n",
       "      <td>NaN</td>\n",
       "    </tr>\n",
       "    <tr>\n",
       "      <th>3</th>\n",
       "      <td>-0.512625</td>\n",
       "      <td>110.168</td>\n",
       "      <td>LPN-NPP</td>\n",
       "      <td>06:29:59 AM</td>\n",
       "      <td>2016-08-23</td>\n",
       "      <td>LAPAN</td>\n",
       "      <td>KALIMANTAN BARAT</td>\n",
       "      <td>KETAPANG</td>\n",
       "      <td>SIMPANG HULU</td>\n",
       "      <td>SEKUCING LABAI</td>\n",
       "      <td>NaN</td>\n",
       "    </tr>\n",
       "    <tr>\n",
       "      <th>4</th>\n",
       "      <td>1.189910</td>\n",
       "      <td>100.672</td>\n",
       "      <td>LPN-NPP</td>\n",
       "      <td>06:29:59 AM</td>\n",
       "      <td>2016-08-23</td>\n",
       "      <td>LAPAN</td>\n",
       "      <td>RIAU</td>\n",
       "      <td>ROKAN HULU</td>\n",
       "      <td>KECAMATAN KAPENUHAN</td>\n",
       "      <td>UPT SP IV KOTO TENGAH</td>\n",
       "      <td>NaN</td>\n",
       "    </tr>\n",
       "  </tbody>\n",
       "</table>\n",
       "</div>"
      ],
      "text/plain": [
       "        lat     long satellite     time_utc        date source  \\\n",
       "0 -2.977430  112.868   LPN-NPP  05:50:44 AM  2016-08-25  LAPAN   \n",
       "1 -5.062590  105.101   LPN-NPP  06:11:04 AM  2016-08-24  LAPAN   \n",
       "2 -8.293230  130.812   LPN-NPP  04:30:05 AM  2016-08-24  LAPAN   \n",
       "3 -0.512625  110.168   LPN-NPP  06:29:59 AM  2016-08-23  LAPAN   \n",
       "4  1.189910  100.672   LPN-NPP  06:29:59 AM  2016-08-23  LAPAN   \n",
       "\n",
       "            provinsi               kab_kota                kec2006  \\\n",
       "0  KALIMANTAN TENGAH     KOTAWARINGIN TIMUR  MENTAYA HILIR SELATAN   \n",
       "1            LAMPUNG         LAMPUNG TENGAH              ANAK TUHA   \n",
       "2             MALUKU  MALUKU TENGGARA BARAT  TANIMBAR SELATAN DAYA   \n",
       "3   KALIMANTAN BARAT               KETAPANG           SIMPANG HULU   \n",
       "4               RIAU             ROKAN HULU    KECAMATAN KAPENUHAN   \n",
       "\n",
       "               desaa2006 nama_kaw  \n",
       "0           SAMUDA BESAR      NaN  \n",
       "1              BUMI JAYA      NaN  \n",
       "2                 WERAIN      NaN  \n",
       "3         SEKUCING LABAI      NaN  \n",
       "4  UPT SP IV KOTO TENGAH      NaN  "
      ]
     },
     "execution_count": 4,
     "metadata": {},
     "output_type": "execute_result"
    }
   ],
   "source": [
    "df.head()"
   ]
  },
  {
   "cell_type": "code",
   "execution_count": 5,
   "metadata": {},
   "outputs": [
    {
     "data": {
      "text/plain": [
       "39728"
      ]
     },
     "execution_count": 5,
     "metadata": {},
     "output_type": "execute_result"
    }
   ],
   "source": [
    "len(df)"
   ]
  },
  {
   "cell_type": "code",
   "execution_count": 6,
   "metadata": {},
   "outputs": [],
   "source": [
    "import ee\n",
    "import folium\n",
    "from folium import plugins"
   ]
  },
  {
   "cell_type": "code",
   "execution_count": 11,
   "metadata": {},
   "outputs": [
    {
     "data": {
      "text/html": [
       "<p>To authorize access needed by Earth Engine, open the following\n",
       "        URL in a web browser and follow the instructions:</p>\n",
       "        <p><a href=https://code.earthengine.google.com/client-auth?scopes=https%3A//www.googleapis.com/auth/earthengine%20https%3A//www.googleapis.com/auth/devstorage.full_control&request_id=sbuvBs9fzCbTaApFJZpkx0ro7FrRDBjDaf9o29uVJhY&tc=6xof2Sho3EAW0vvMiKCRxfB8ZsN64k8rre0UOor2HsI&cc=WyYB8sIKohJQ-UPc9YP_wYPYwMAeJ0RX6gats2vyEpc>https://code.earthengine.google.com/client-auth?scopes=https%3A//www.googleapis.com/auth/earthengine%20https%3A//www.googleapis.com/auth/devstorage.full_control&request_id=sbuvBs9fzCbTaApFJZpkx0ro7FrRDBjDaf9o29uVJhY&tc=6xof2Sho3EAW0vvMiKCRxfB8ZsN64k8rre0UOor2HsI&cc=WyYB8sIKohJQ-UPc9YP_wYPYwMAeJ0RX6gats2vyEpc</a></p>\n",
       "        <p>The authorization workflow will generate a code, which you\n",
       "        should paste in the box below</p>\n",
       "        "
      ],
      "text/plain": [
       "<IPython.core.display.HTML object>"
      ]
     },
     "metadata": {},
     "output_type": "display_data"
    },
    {
     "name": "stdout",
     "output_type": "stream",
     "text": [
      "Enter verification code: 4/1AX4XfWjrAVCQ01G7YRyE5OSiRrbq5ZeAvNFyAhDCFd0lsK0f1mLsS_rKGvI\n",
      "\n",
      "Successfully saved authorization token.\n"
     ]
    }
   ],
   "source": [
    "# Authenticate earth engine servers\n",
    "ee.Authenticate()\n",
    "#initialize API\n",
    "ee.Initialize()"
   ]
  },
  {
   "cell_type": "code",
   "execution_count": 7,
   "metadata": {},
   "outputs": [],
   "source": [
    "def add_ee_layer(self, ee_image_object, vis_params, name):\n",
    "    map_id_dict = ee.ImageCollection(ee_image_object).getMapId(vis_params)\n",
    "    folium.raster_layers.TileLayer(\n",
    "      tiles=map_id_dict['tile_fetcher'].url_format,\n",
    "      attr='Map Data &copy; <a href=\"https://earthengine.google.com/\">Google Earth Engine</a>',\n",
    "      name=name,\n",
    "      overlay=True,\n",
    "      control=True\n",
    "  ).add_to(self)\n",
    "\n",
    "folium.Map.add_ee_layer = add_ee_layer"
   ]
  },
  {
   "cell_type": "code",
   "execution_count": 8,
   "metadata": {
    "scrolled": false
   },
   "outputs": [
    {
     "ename": "EEException",
     "evalue": "Earth Engine client library not initialized. Run `ee.Initialize()`",
     "output_type": "error",
     "traceback": [
      "\u001b[1;31m---------------------------------------------------------------------------\u001b[0m",
      "\u001b[1;31mEEException\u001b[0m                               Traceback (most recent call last)",
      "Input \u001b[1;32mIn [8]\u001b[0m, in \u001b[0;36m<cell line: 25>\u001b[1;34m()\u001b[0m\n\u001b[0;32m     23\u001b[0m \u001b[38;5;66;03m# Set coordinates\u001b[39;00m\n\u001b[0;32m     24\u001b[0m coordinates \u001b[38;5;241m=\u001b[39m [\u001b[38;5;28mfloat\u001b[39m(df\u001b[38;5;241m.\u001b[39mlat\u001b[38;5;241m.\u001b[39mvalues[row]), \u001b[38;5;28mfloat\u001b[39m(df\u001b[38;5;241m.\u001b[39mlong\u001b[38;5;241m.\u001b[39mvalues[row])]\n\u001b[1;32m---> 25\u001b[0m region \u001b[38;5;241m=\u001b[39m \u001b[43mee\u001b[49m\u001b[38;5;241;43m.\u001b[39;49m\u001b[43mGeometry\u001b[49m\u001b[38;5;241;43m.\u001b[39;49m\u001b[43mRectangle\u001b[49m\u001b[43m(\u001b[49m\u001b[43m[\u001b[49m\u001b[43mcoordinates\u001b[49m\u001b[43m[\u001b[49m\u001b[38;5;241;43m1\u001b[39;49m\u001b[43m]\u001b[49m\u001b[38;5;241;43m-\u001b[39;49m\u001b[38;5;241;43m0.1\u001b[39;49m\u001b[43m,\u001b[49m\u001b[43m \u001b[49m\u001b[43mcoordinates\u001b[49m\u001b[43m[\u001b[49m\u001b[38;5;241;43m0\u001b[39;49m\u001b[43m]\u001b[49m\u001b[38;5;241;43m-\u001b[39;49m\u001b[38;5;241;43m0.1\u001b[39;49m\u001b[43m,\u001b[49m\u001b[43m \u001b[49m\n\u001b[0;32m     26\u001b[0m \u001b[43m                                \u001b[49m\u001b[43mcoordinates\u001b[49m\u001b[43m[\u001b[49m\u001b[38;5;241;43m1\u001b[39;49m\u001b[43m]\u001b[49m\u001b[38;5;241;43m+\u001b[39;49m\u001b[38;5;241;43m0.1\u001b[39;49m\u001b[43m,\u001b[49m\u001b[43m \u001b[49m\u001b[43mcoordinates\u001b[49m\u001b[43m[\u001b[49m\u001b[38;5;241;43m0\u001b[39;49m\u001b[43m]\u001b[49m\u001b[38;5;241;43m+\u001b[39;49m\u001b[38;5;241;43m0.1\u001b[39;49m\u001b[43m]\u001b[49m\u001b[43m)\u001b[49m;\n\u001b[0;32m     29\u001b[0m \u001b[38;5;66;03m# filter image collection\u001b[39;00m\n\u001b[0;32m     30\u001b[0m \u001b[38;5;66;03m# set base date\u001b[39;00m\n\u001b[0;32m     31\u001b[0m base_date \u001b[38;5;241m=\u001b[39m ee\u001b[38;5;241m.\u001b[39mDate(df\u001b[38;5;241m.\u001b[39mdate\u001b[38;5;241m.\u001b[39mvalues[row])\n",
      "File \u001b[1;32m~\\.virtualenvs\\wildfire-sumatera-classification-3CIyzrti\\lib\\site-packages\\ee\\geometry.py:272\u001b[0m, in \u001b[0;36mGeometry.Rectangle\u001b[1;34m(coords, proj, geodesic, evenOdd, *args, **kwargs)\u001b[0m\n\u001b[0;32m    270\u001b[0m   init[\u001b[38;5;124m'\u001b[39m\u001b[38;5;124mcoordinates\u001b[39m\u001b[38;5;124m'\u001b[39m] \u001b[38;5;241m=\u001b[39m [[[x1, y2], [x1, y1], [x2, y1], [x2, y2]]]\n\u001b[0;32m    271\u001b[0m   init[\u001b[38;5;124m'\u001b[39m\u001b[38;5;124mtype\u001b[39m\u001b[38;5;124m'\u001b[39m] \u001b[38;5;241m=\u001b[39m \u001b[38;5;124m'\u001b[39m\u001b[38;5;124mPolygon\u001b[39m\u001b[38;5;124m'\u001b[39m\n\u001b[1;32m--> 272\u001b[0m \u001b[38;5;28;01mreturn\u001b[39;00m \u001b[43mGeometry\u001b[49m\u001b[43m(\u001b[49m\u001b[43minit\u001b[49m\u001b[43m)\u001b[49m\n",
      "File \u001b[1;32m~\\.virtualenvs\\wildfire-sumatera-classification-3CIyzrti\\lib\\site-packages\\ee\\computedobject.py:32\u001b[0m, in \u001b[0;36mComputedObjectMetaclass.__call__\u001b[1;34m(cls, *args, **kwargs)\u001b[0m\n\u001b[0;32m     30\u001b[0m   \u001b[38;5;28;01mreturn\u001b[39;00m args[\u001b[38;5;241m0\u001b[39m]\n\u001b[0;32m     31\u001b[0m \u001b[38;5;28;01melse\u001b[39;00m:\n\u001b[1;32m---> 32\u001b[0m   \u001b[38;5;28;01mreturn\u001b[39;00m \u001b[38;5;28;43mtype\u001b[39;49m\u001b[38;5;241;43m.\u001b[39;49m\u001b[38;5;21;43m__call__\u001b[39;49m\u001b[43m(\u001b[49m\u001b[38;5;28;43mcls\u001b[39;49m\u001b[43m,\u001b[49m\u001b[43m \u001b[49m\u001b[38;5;241;43m*\u001b[39;49m\u001b[43margs\u001b[49m\u001b[43m,\u001b[49m\u001b[43m \u001b[49m\u001b[38;5;241;43m*\u001b[39;49m\u001b[38;5;241;43m*\u001b[39;49m\u001b[43mkwargs\u001b[49m\u001b[43m)\u001b[49m\n",
      "File \u001b[1;32m~\\.virtualenvs\\wildfire-sumatera-classification-3CIyzrti\\lib\\site-packages\\ee\\geometry.py:63\u001b[0m, in \u001b[0;36mGeometry.__init__\u001b[1;34m(self, geo_json, opt_proj, opt_geodesic, opt_evenOdd)\u001b[0m\n\u001b[0;32m     31\u001b[0m \u001b[38;5;28;01mdef\u001b[39;00m \u001b[38;5;21m__init__\u001b[39m(\u001b[38;5;28mself\u001b[39m,\n\u001b[0;32m     32\u001b[0m              geo_json,\n\u001b[0;32m     33\u001b[0m              opt_proj\u001b[38;5;241m=\u001b[39m\u001b[38;5;28;01mNone\u001b[39;00m,\n\u001b[0;32m     34\u001b[0m              opt_geodesic\u001b[38;5;241m=\u001b[39m\u001b[38;5;28;01mNone\u001b[39;00m,\n\u001b[0;32m     35\u001b[0m              opt_evenOdd\u001b[38;5;241m=\u001b[39m\u001b[38;5;28;01mNone\u001b[39;00m):\n\u001b[0;32m     36\u001b[0m   \u001b[38;5;124;03m\"\"\"Creates a geometry.\u001b[39;00m\n\u001b[0;32m     37\u001b[0m \n\u001b[0;32m     38\u001b[0m \u001b[38;5;124;03m  Args:\u001b[39;00m\n\u001b[1;32m   (...)\u001b[0m\n\u001b[0;32m     61\u001b[0m \u001b[38;5;124;03m    EEException: if the given geometry isn't valid.\u001b[39;00m\n\u001b[0;32m     62\u001b[0m \u001b[38;5;124;03m  \"\"\"\u001b[39;00m\n\u001b[1;32m---> 63\u001b[0m   \u001b[38;5;28;43mself\u001b[39;49m\u001b[38;5;241;43m.\u001b[39;49m\u001b[43minitialize\u001b[49m\u001b[43m(\u001b[49m\u001b[43m)\u001b[49m\n\u001b[0;32m     65\u001b[0m   computed \u001b[38;5;241m=\u001b[39m (\n\u001b[0;32m     66\u001b[0m       \u001b[38;5;28misinstance\u001b[39m(geo_json, computedobject\u001b[38;5;241m.\u001b[39mComputedObject) \u001b[38;5;129;01mand\u001b[39;00m\n\u001b[0;32m     67\u001b[0m       \u001b[38;5;129;01mnot\u001b[39;00m (\u001b[38;5;28misinstance\u001b[39m(geo_json, Geometry) \u001b[38;5;129;01mand\u001b[39;00m geo_json\u001b[38;5;241m.\u001b[39m_type \u001b[38;5;129;01mis\u001b[39;00m \u001b[38;5;129;01mnot\u001b[39;00m \u001b[38;5;28;01mNone\u001b[39;00m))  \u001b[38;5;66;03m# pylint: disable=protected-access\u001b[39;00m\n\u001b[0;32m     68\u001b[0m   options \u001b[38;5;241m=\u001b[39m opt_proj \u001b[38;5;129;01mor\u001b[39;00m opt_geodesic \u001b[38;5;129;01mor\u001b[39;00m opt_evenOdd\n",
      "File \u001b[1;32m~\\.virtualenvs\\wildfire-sumatera-classification-3CIyzrti\\lib\\site-packages\\ee\\geometry.py:154\u001b[0m, in \u001b[0;36mGeometry.initialize\u001b[1;34m(cls)\u001b[0m\n\u001b[0;32m    152\u001b[0m \u001b[38;5;124;03m\"\"\"Imports API functions to this class.\"\"\"\u001b[39;00m\n\u001b[0;32m    153\u001b[0m \u001b[38;5;28;01mif\u001b[39;00m \u001b[38;5;129;01mnot\u001b[39;00m \u001b[38;5;28mcls\u001b[39m\u001b[38;5;241m.\u001b[39m_initialized:\n\u001b[1;32m--> 154\u001b[0m   \u001b[43mapifunction\u001b[49m\u001b[38;5;241;43m.\u001b[39;49m\u001b[43mApiFunction\u001b[49m\u001b[38;5;241;43m.\u001b[39;49m\u001b[43mimportApi\u001b[49m\u001b[43m(\u001b[49m\u001b[38;5;28;43mcls\u001b[39;49m\u001b[43m,\u001b[49m\u001b[43m \u001b[49m\u001b[38;5;124;43m'\u001b[39;49m\u001b[38;5;124;43mGeometry\u001b[39;49m\u001b[38;5;124;43m'\u001b[39;49m\u001b[43m,\u001b[49m\u001b[43m \u001b[49m\u001b[38;5;124;43m'\u001b[39;49m\u001b[38;5;124;43mGeometry\u001b[39;49m\u001b[38;5;124;43m'\u001b[39;49m\u001b[43m)\u001b[49m\n\u001b[0;32m    155\u001b[0m   \u001b[38;5;28mcls\u001b[39m\u001b[38;5;241m.\u001b[39m_initialized \u001b[38;5;241m=\u001b[39m \u001b[38;5;28;01mTrue\u001b[39;00m\n",
      "File \u001b[1;32m~\\.virtualenvs\\wildfire-sumatera-classification-3CIyzrti\\lib\\site-packages\\ee\\apifunction.py:183\u001b[0m, in \u001b[0;36mApiFunction.importApi\u001b[1;34m(cls, target, prefix, type_name, opt_prepend)\u001b[0m\n\u001b[0;32m    170\u001b[0m \u001b[38;5;129m@classmethod\u001b[39m\n\u001b[0;32m    171\u001b[0m \u001b[38;5;28;01mdef\u001b[39;00m \u001b[38;5;21mimportApi\u001b[39m(\u001b[38;5;28mcls\u001b[39m, target, prefix, type_name, opt_prepend\u001b[38;5;241m=\u001b[39m\u001b[38;5;28;01mNone\u001b[39;00m):\n\u001b[0;32m    172\u001b[0m   \u001b[38;5;124;03m\"\"\"Adds all API functions that begin with a given prefix to a target class.\u001b[39;00m\n\u001b[0;32m    173\u001b[0m \n\u001b[0;32m    174\u001b[0m \u001b[38;5;124;03m  Args:\u001b[39;00m\n\u001b[1;32m   (...)\u001b[0m\n\u001b[0;32m    181\u001b[0m \u001b[38;5;124;03m        added functions.\u001b[39;00m\n\u001b[0;32m    182\u001b[0m \u001b[38;5;124;03m  \"\"\"\u001b[39;00m\n\u001b[1;32m--> 183\u001b[0m   \u001b[38;5;28;43mcls\u001b[39;49m\u001b[38;5;241;43m.\u001b[39;49m\u001b[43minitialize\u001b[49m\u001b[43m(\u001b[49m\u001b[43m)\u001b[49m\n\u001b[0;32m    184\u001b[0m   prepend \u001b[38;5;241m=\u001b[39m opt_prepend \u001b[38;5;129;01mor\u001b[39;00m \u001b[38;5;124m'\u001b[39m\u001b[38;5;124m'\u001b[39m\n\u001b[0;32m    185\u001b[0m   \u001b[38;5;28;01mfor\u001b[39;00m name, api_func \u001b[38;5;129;01min\u001b[39;00m \u001b[38;5;28mcls\u001b[39m\u001b[38;5;241m.\u001b[39m_api\u001b[38;5;241m.\u001b[39mitems():\n",
      "File \u001b[1;32m~\\.virtualenvs\\wildfire-sumatera-classification-3CIyzrti\\lib\\site-packages\\ee\\apifunction.py:154\u001b[0m, in \u001b[0;36mApiFunction.initialize\u001b[1;34m(cls)\u001b[0m\n\u001b[0;32m    152\u001b[0m \u001b[38;5;124;03m\"\"\"Initializes the list of signatures from the Earth Engine front-end.\"\"\"\u001b[39;00m\n\u001b[0;32m    153\u001b[0m \u001b[38;5;28;01mif\u001b[39;00m \u001b[38;5;129;01mnot\u001b[39;00m \u001b[38;5;28mcls\u001b[39m\u001b[38;5;241m.\u001b[39m_api:\n\u001b[1;32m--> 154\u001b[0m   signatures \u001b[38;5;241m=\u001b[39m \u001b[43mdata\u001b[49m\u001b[38;5;241;43m.\u001b[39;49m\u001b[43mgetAlgorithms\u001b[49m\u001b[43m(\u001b[49m\u001b[43m)\u001b[49m\n\u001b[0;32m    155\u001b[0m   api \u001b[38;5;241m=\u001b[39m {}\n\u001b[0;32m    156\u001b[0m   \u001b[38;5;28;01mfor\u001b[39;00m name, sig \u001b[38;5;129;01min\u001b[39;00m signatures\u001b[38;5;241m.\u001b[39mitems():\n\u001b[0;32m    157\u001b[0m     \u001b[38;5;66;03m# Strip type parameters.\u001b[39;00m\n",
      "File \u001b[1;32m~\\.virtualenvs\\wildfire-sumatera-classification-3CIyzrti\\lib\\site-packages\\ee\\data.py:1058\u001b[0m, in \u001b[0;36mgetAlgorithms\u001b[1;34m()\u001b[0m\n\u001b[0;32m   1042\u001b[0m \u001b[38;5;124;03m\"\"\"Get the list of algorithms.\u001b[39;00m\n\u001b[0;32m   1043\u001b[0m \n\u001b[0;32m   1044\u001b[0m \u001b[38;5;124;03mReturns:\u001b[39;00m\n\u001b[1;32m   (...)\u001b[0m\n\u001b[0;32m   1055\u001b[0m \u001b[38;5;124;03m              is not specified.\u001b[39;00m\n\u001b[0;32m   1056\u001b[0m \u001b[38;5;124;03m\"\"\"\u001b[39;00m\n\u001b[0;32m   1057\u001b[0m \u001b[38;5;28;01mtry\u001b[39;00m:\n\u001b[1;32m-> 1058\u001b[0m   call \u001b[38;5;241m=\u001b[39m \u001b[43m_get_cloud_api_resource\u001b[49m\u001b[43m(\u001b[49m\u001b[43m)\u001b[49m\u001b[38;5;241m.\u001b[39mprojects()\u001b[38;5;241m.\u001b[39malgorithms()\u001b[38;5;241m.\u001b[39mlist(\n\u001b[0;32m   1059\u001b[0m       parent\u001b[38;5;241m=\u001b[39m_get_projects_path(), prettyPrint\u001b[38;5;241m=\u001b[39m\u001b[38;5;28;01mFalse\u001b[39;00m)\n\u001b[0;32m   1060\u001b[0m \u001b[38;5;28;01mexcept\u001b[39;00m \u001b[38;5;167;01mTypeError\u001b[39;00m:\n\u001b[0;32m   1061\u001b[0m   call \u001b[38;5;241m=\u001b[39m _get_cloud_api_resource()\u001b[38;5;241m.\u001b[39mprojects()\u001b[38;5;241m.\u001b[39malgorithms()\u001b[38;5;241m.\u001b[39mlist(\n\u001b[0;32m   1062\u001b[0m       project\u001b[38;5;241m=\u001b[39m_get_projects_path(), prettyPrint\u001b[38;5;241m=\u001b[39m\u001b[38;5;28;01mFalse\u001b[39;00m)\n",
      "File \u001b[1;32m~\\.virtualenvs\\wildfire-sumatera-classification-3CIyzrti\\lib\\site-packages\\ee\\data.py:282\u001b[0m, in \u001b[0;36m_get_cloud_api_resource\u001b[1;34m()\u001b[0m\n\u001b[0;32m    280\u001b[0m \u001b[38;5;28;01mdef\u001b[39;00m \u001b[38;5;21m_get_cloud_api_resource\u001b[39m():\n\u001b[0;32m    281\u001b[0m   \u001b[38;5;28;01mif\u001b[39;00m _cloud_api_resource \u001b[38;5;129;01mis\u001b[39;00m \u001b[38;5;28;01mNone\u001b[39;00m:\n\u001b[1;32m--> 282\u001b[0m     \u001b[38;5;28;01mraise\u001b[39;00m ee_exception\u001b[38;5;241m.\u001b[39mEEException(\n\u001b[0;32m    283\u001b[0m         \u001b[38;5;124m'\u001b[39m\u001b[38;5;124mEarth Engine client library not initialized. Run `ee.Initialize()`\u001b[39m\u001b[38;5;124m'\u001b[39m)\n\u001b[0;32m    284\u001b[0m   \u001b[38;5;28;01mreturn\u001b[39;00m _cloud_api_resource\n",
      "\u001b[1;31mEEException\u001b[0m: Earth Engine client library not initialized. Run `ee.Initialize()`"
     ]
    }
   ],
   "source": [
    "#################################################################################################################################\n",
    "# sentinel 2 cloud masking \n",
    "def s2CloudMasking(image):\n",
    "    qa = image.select('QA60')\n",
    "    # Bits 10 and 11 are clouds and cirrus, respectively.\n",
    "    cloudBitMask = 1 << 10\n",
    "    cirrusBitMask = 1 << 11\n",
    "\n",
    "    #Both flags should be set to zero, indicating clear conditions.\n",
    "    mask = qa.bitwiseAnd(cloudBitMask).eq(0)\\\n",
    "             .And(qa.bitwiseAnd(cirrusBitMask).eq(0))\n",
    "\n",
    "    return image.updateMask(mask)\\\n",
    "                .divide(10000)\\\n",
    "#################################################################################################################################\n",
    "\n",
    "\n",
    "####################################################### SENTINEL ################################################################\n",
    "# Select row column\n",
    "row = 5001\n",
    "\n",
    "\n",
    "# Set coordinates\n",
    "coordinates = [float(df.lat.values[row]), float(df.long.values[row])]\n",
    "region = ee.Geometry.Rectangle([coordinates[1]-0.1, coordinates[0]-0.1, \n",
    "                                coordinates[1]+0.1, coordinates[0]+0.1]);\n",
    "\n",
    "\n",
    "# filter image collection\n",
    "# set base date\n",
    "base_date = ee.Date(df.date.values[row])\n",
    "\n",
    "#################################################################################################################################\n",
    "\n",
    "\n",
    "####################################################### PREFIRE #################################################################\n",
    "# pre fire\n",
    "prefire_date_start = ee.Date(base_date.advance(-365, 'day'))\n",
    "prefire_date_end = ee.Date(base_date.advance(-1, 'day'))\n",
    "\n",
    "# sentinel image pre wildfire event\n",
    "pre_sentinel_collection = ee.ImageCollection('COPERNICUS/S2')\\\n",
    "                           .filterDate(prefire_date_start, prefire_date_end)\\\n",
    "                           .filterBounds(region)\\\n",
    "                           .map(s2CloudMasking)\\\n",
    "                           .median()\n",
    "\n",
    "\n",
    "# Calculate NBR for pre fire\n",
    "pre_nbr = pre_sentinel_collection.normalizedDifference(['B8', 'B12'])\n",
    "#################################################################################################################################\n",
    "\n",
    "\n",
    "####################################################### POSTFIRE ################################################################\n",
    "# post fire\n",
    "postfire_date_start = ee.Date(base_date.advance(1, 'day'))\n",
    "postfire_date_end = ee.Date(base_date.advance(365, 'day'))\n",
    "\n",
    "# sentinel image post wildfire event\n",
    "post_sentinel_collection = ee.ImageCollection('COPERNICUS/S2')\\\n",
    "                           .filterDate(postfire_date_start, postfire_date_end)\\\n",
    "                           .filterBounds(region)\\\n",
    "                           .map(s2CloudMasking)\\\n",
    "                           .median()\n",
    "            \n",
    "\n",
    "# Calculate NBR for post fire\n",
    "post_nbr = post_sentinel_collection.normalizedDifference(['B8', 'B12'])\n",
    "\n",
    "# calculate delta NBR\n",
    "delta_nbr = pre_nbr.subtract(post_nbr).rename('DELTA_NBR')\n",
    "post_sentinel_collection = post_sentinel_collection.addBands(delta_nbr)\n",
    "#################################################################################################################################\n",
    "\n",
    "\n",
    "############################################## DISPLAY SATELLITE IMAGE ##########################################################\n",
    "map_landsat = folium.Map(location=coordinates, zoom_start=12)\n",
    "folium.Marker(coordinates, popup=df.desaa2006).add_to(map_landsat)\n",
    "\n",
    "# Delta NBR visualization\n",
    "image_viz_params = {\n",
    "    'bands': ['DELTA_NBR', 'B3', 'B2'],\n",
    "    'min': 0,\n",
    "    'max': 0.4,\n",
    "}\n",
    "map_landsat.add_ee_layer(post_sentinel_collection, image_viz_params, None)\n",
    "display(map_landsat)\n",
    "\n",
    "# Regular Image visualization \n",
    "image_viz_params = {\n",
    "    'bands': ['B12', 'B8', 'B4'],\n",
    "    'min': 0,\n",
    "    'max': 0.4,\n",
    "}\n",
    "map_landsat.add_ee_layer(pre_sentinel_collection, image_viz_params, None)\n",
    "display(map_landsat)\n",
    "\n",
    "# Regular Image visualization \n",
    "image_viz_params = {\n",
    "    'bands': ['B12', 'B8', 'B4'],\n",
    "    'min': 0,\n",
    "    'max': 0.4,\n",
    "}\n",
    "map_landsat.add_ee_layer(post_sentinel_collection, image_viz_params, None)\n",
    "display(map_landsat)\n",
    "#################################################################################################################################\n",
    "region = ee.Geometry.Rectangle([coordinates[1]-0.1, coordinates[0]-0.1, \n",
    "                                coordinates[1]+0.1, coordinates[0]+0.1]);\n"
   ]
  },
  {
   "cell_type": "code",
   "execution_count": null,
   "metadata": {},
   "outputs": [],
   "source": []
  }
 ],
 "metadata": {
  "kernelspec": {
   "display_name": "wildfire-sumatera-classification(env)",
   "language": "python",
   "name": "wildfire-sumatera-classification"
  },
  "language_info": {
   "codemirror_mode": {
    "name": "ipython",
    "version": 3
   },
   "file_extension": ".py",
   "mimetype": "text/x-python",
   "name": "python",
   "nbconvert_exporter": "python",
   "pygments_lexer": "ipython3",
   "version": "3.8.0"
  }
 },
 "nbformat": 4,
 "nbformat_minor": 4
}
