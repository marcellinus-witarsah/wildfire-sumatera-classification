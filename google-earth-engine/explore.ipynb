{
 "cells": [
  {
   "cell_type": "code",
   "execution_count": 6,
   "metadata": {
    "scrolled": true
   },
   "outputs": [
    {
     "name": "stdout",
     "output_type": "stream",
     "text": [
      "<class 'pandas.core.frame.DataFrame'>\n",
      "Int64Index: 7839 entries, 1 to 39670\n",
      "Data columns (total 11 columns):\n",
      " #   Column     Non-Null Count  Dtype  \n",
      "---  ------     --------------  -----  \n",
      " 0   lat        7839 non-null   float64\n",
      " 1   long       7839 non-null   float64\n",
      " 2   satellite  7839 non-null   object \n",
      " 3   time_utc   7839 non-null   object \n",
      " 4   date       7839 non-null   string \n",
      " 5   source     7839 non-null   object \n",
      " 6   provinsi   7839 non-null   object \n",
      " 7   kab_kota   7839 non-null   object \n",
      " 8   kec2006    7830 non-null   object \n",
      " 9   desaa2006  7830 non-null   object \n",
      " 10  nama_kaw   930 non-null    object \n",
      "dtypes: float64(2), object(8), string(1)\n",
      "memory usage: 734.9+ KB\n"
     ]
    },
    {
     "data": {
      "text/plain": [
       "None"
      ]
     },
     "metadata": {},
     "output_type": "display_data"
    },
    {
     "data": {
      "text/plain": [
       "array(['LAMPUNG', 'RIAU', 'SUMATERA UTARA', 'SUMATERA BARAT',\n",
       "       'SUMATERA SELATAN', 'ACEH', 'JAMBI', 'BENGKULU'], dtype=object)"
      ]
     },
     "metadata": {},
     "output_type": "display_data"
    },
    {
     "data": {
      "text/html": [
       "<div>\n",
       "<style scoped>\n",
       "    .dataframe tbody tr th:only-of-type {\n",
       "        vertical-align: middle;\n",
       "    }\n",
       "\n",
       "    .dataframe tbody tr th {\n",
       "        vertical-align: top;\n",
       "    }\n",
       "\n",
       "    .dataframe thead th {\n",
       "        text-align: right;\n",
       "    }\n",
       "</style>\n",
       "<table border=\"1\" class=\"dataframe\">\n",
       "  <thead>\n",
       "    <tr style=\"text-align: right;\">\n",
       "      <th></th>\n",
       "      <th>lat</th>\n",
       "      <th>long</th>\n",
       "      <th>satellite</th>\n",
       "      <th>time_utc</th>\n",
       "      <th>date</th>\n",
       "      <th>source</th>\n",
       "      <th>provinsi</th>\n",
       "      <th>kab_kota</th>\n",
       "      <th>kec2006</th>\n",
       "      <th>desaa2006</th>\n",
       "      <th>nama_kaw</th>\n",
       "    </tr>\n",
       "  </thead>\n",
       "  <tbody>\n",
       "    <tr>\n",
       "      <th>1</th>\n",
       "      <td>-5.06259</td>\n",
       "      <td>105.101</td>\n",
       "      <td>LPN-NPP</td>\n",
       "      <td>06:11:04 AM</td>\n",
       "      <td>2016-08-24</td>\n",
       "      <td>LAPAN</td>\n",
       "      <td>LAMPUNG</td>\n",
       "      <td>LAMPUNG TENGAH</td>\n",
       "      <td>ANAK TUHA</td>\n",
       "      <td>BUMI JAYA</td>\n",
       "      <td>NaN</td>\n",
       "    </tr>\n",
       "    <tr>\n",
       "      <th>4</th>\n",
       "      <td>1.18991</td>\n",
       "      <td>100.672</td>\n",
       "      <td>LPN-NPP</td>\n",
       "      <td>06:29:59 AM</td>\n",
       "      <td>2016-08-23</td>\n",
       "      <td>LAPAN</td>\n",
       "      <td>RIAU</td>\n",
       "      <td>ROKAN HULU</td>\n",
       "      <td>KECAMATAN KAPENUHAN</td>\n",
       "      <td>UPT SP IV KOTO TENGAH</td>\n",
       "      <td>NaN</td>\n",
       "    </tr>\n",
       "    <tr>\n",
       "      <th>5</th>\n",
       "      <td>2.31418</td>\n",
       "      <td>100.288</td>\n",
       "      <td>LPN-NPP</td>\n",
       "      <td>06:29:59 AM</td>\n",
       "      <td>2016-08-23</td>\n",
       "      <td>LAPAN</td>\n",
       "      <td>SUMATERA UTARA</td>\n",
       "      <td>LABUHANBATU</td>\n",
       "      <td>PANAI TENGAH</td>\n",
       "      <td>SELAT BETING</td>\n",
       "      <td>NaN</td>\n",
       "    </tr>\n",
       "    <tr>\n",
       "      <th>6</th>\n",
       "      <td>1.41833</td>\n",
       "      <td>100.752</td>\n",
       "      <td>LPN-NPP</td>\n",
       "      <td>06:29:59 AM</td>\n",
       "      <td>2016-08-23</td>\n",
       "      <td>LAPAN</td>\n",
       "      <td>RIAU</td>\n",
       "      <td>ROKAN HILIR</td>\n",
       "      <td>KECAMATAN PUJUD</td>\n",
       "      <td>SIARANG ARANG</td>\n",
       "      <td>NaN</td>\n",
       "    </tr>\n",
       "    <tr>\n",
       "      <th>8</th>\n",
       "      <td>1.38958</td>\n",
       "      <td>100.673</td>\n",
       "      <td>LPN-NPP</td>\n",
       "      <td>06:36:36 AM</td>\n",
       "      <td>2016-09-13</td>\n",
       "      <td>LAPAN</td>\n",
       "      <td>RIAU</td>\n",
       "      <td>ROKAN HILIR</td>\n",
       "      <td>KECAMATAN PUJUD</td>\n",
       "      <td>TELUK NAYANG</td>\n",
       "      <td>NaN</td>\n",
       "    </tr>\n",
       "  </tbody>\n",
       "</table>\n",
       "</div>"
      ],
      "text/plain": [
       "       lat     long satellite     time_utc        date source        provinsi  \\\n",
       "1 -5.06259  105.101   LPN-NPP  06:11:04 AM  2016-08-24  LAPAN         LAMPUNG   \n",
       "4  1.18991  100.672   LPN-NPP  06:29:59 AM  2016-08-23  LAPAN            RIAU   \n",
       "5  2.31418  100.288   LPN-NPP  06:29:59 AM  2016-08-23  LAPAN  SUMATERA UTARA   \n",
       "6  1.41833  100.752   LPN-NPP  06:29:59 AM  2016-08-23  LAPAN            RIAU   \n",
       "8  1.38958  100.673   LPN-NPP  06:36:36 AM  2016-09-13  LAPAN            RIAU   \n",
       "\n",
       "         kab_kota              kec2006              desaa2006 nama_kaw  \n",
       "1  LAMPUNG TENGAH            ANAK TUHA              BUMI JAYA      NaN  \n",
       "4      ROKAN HULU  KECAMATAN KAPENUHAN  UPT SP IV KOTO TENGAH      NaN  \n",
       "5     LABUHANBATU         PANAI TENGAH           SELAT BETING      NaN  \n",
       "6     ROKAN HILIR      KECAMATAN PUJUD          SIARANG ARANG      NaN  \n",
       "8     ROKAN HILIR      KECAMATAN PUJUD           TELUK NAYANG      NaN  "
      ]
     },
     "metadata": {},
     "output_type": "display_data"
    }
   ],
   "source": [
    "import os\n",
    "import pandas as pd\n",
    "import numpy as np\n",
    "import seaborn as sns\n",
    "import matplotlib.pyplot as plt\n",
    "import datetime\n",
    "import urllib\n",
    "import multiprocessing\n",
    "\n",
    "pd.set_option('display.max_columns', None)\n",
    "pd.set_option('display.max_rows', 100)\n",
    "\n",
    "os.chdir(\"C:\\\\Users\\\\USER\\\\Documents\\\\DATA USER\\\\DATA D\\\\skripsi-uph\\\\wildfire-data-science\")\n",
    "wf_data  = pd.read_csv(\"data-total.csv\")\n",
    "wf_data.columns\n",
    "# rename columns\n",
    "wf_data.rename(\n",
    "    columns={\n",
    "        'Lat': 'lat', \n",
    "        'Long': 'long', \n",
    "        'Satellite': 'satellite', \n",
    "        'Time_UTC': 'time_utc', \n",
    "        'Date': 'date', \n",
    "        'Source': 'source', \n",
    "        'PROVINSI': 'provinsi',\n",
    "        'KAB_KOTA': 'kab_kota'\n",
    "        }, \n",
    "    inplace=True,\n",
    "    )\n",
    "\n",
    "# adding '-' to date column values\n",
    "wf_data.date = pd.to_datetime(wf_data.date, format=\"%Y%m%d\")\n",
    "wf_data.date = wf_data.date.astype('string')\n",
    "\n",
    "# All provinces in sumatera\n",
    "sumatera_provinces = [\n",
    "    'SUMATERA UTARA',\n",
    "    'JAMBI',\n",
    "    'RIAU',\n",
    "    'SUMATERA BARAT',\n",
    "    'SUMATERA SELATAN',\n",
    "    'BENGKULU',\n",
    "    'LAMPUNG',\n",
    "    'ACEH',\n",
    "    ]\n",
    "\n",
    "# create filter so that only events in sumatera will be returned.\n",
    "sumatera_filter = wf_data['provinsi'].apply(lambda x: x in sumatera_provinces) \n",
    "sumatera_only = wf_data.loc[sumatera_filter]\n",
    "\n",
    "display(sumatera_only.info())\n",
    "display(sumatera_only.provinsi.unique())\n",
    "display(sumatera_only.head())"
   ]
  },
  {
   "cell_type": "code",
   "execution_count": 7,
   "metadata": {},
   "outputs": [
    {
     "data": {
      "text/html": [
       "<div>\n",
       "<style scoped>\n",
       "    .dataframe tbody tr th:only-of-type {\n",
       "        vertical-align: middle;\n",
       "    }\n",
       "\n",
       "    .dataframe tbody tr th {\n",
       "        vertical-align: top;\n",
       "    }\n",
       "\n",
       "    .dataframe thead th {\n",
       "        text-align: right;\n",
       "    }\n",
       "</style>\n",
       "<table border=\"1\" class=\"dataframe\">\n",
       "  <thead>\n",
       "    <tr style=\"text-align: right;\">\n",
       "      <th></th>\n",
       "      <th>lat</th>\n",
       "      <th>long</th>\n",
       "      <th>satellite</th>\n",
       "      <th>time_utc</th>\n",
       "      <th>date</th>\n",
       "      <th>source</th>\n",
       "      <th>provinsi</th>\n",
       "      <th>kab_kota</th>\n",
       "      <th>kec2006</th>\n",
       "      <th>desaa2006</th>\n",
       "      <th>nama_kaw</th>\n",
       "      <th>year</th>\n",
       "      <th>month</th>\n",
       "      <th>day</th>\n",
       "    </tr>\n",
       "  </thead>\n",
       "  <tbody>\n",
       "    <tr>\n",
       "      <th>0</th>\n",
       "      <td>1.649680</td>\n",
       "      <td>100.892000</td>\n",
       "      <td>LPN-NPP</td>\n",
       "      <td>06:24:35 AM</td>\n",
       "      <td>2016-04-12</td>\n",
       "      <td>LAPAN</td>\n",
       "      <td>RIAU</td>\n",
       "      <td>ROKAN HILIR</td>\n",
       "      <td>KECAMATAN BANGKO PUSAKO</td>\n",
       "      <td>SUNGAI MENASIB</td>\n",
       "      <td>NaN</td>\n",
       "      <td>2016</td>\n",
       "      <td>4</td>\n",
       "      <td>12</td>\n",
       "    </tr>\n",
       "    <tr>\n",
       "      <th>1</th>\n",
       "      <td>1.648530</td>\n",
       "      <td>100.884000</td>\n",
       "      <td>LPN-NPP</td>\n",
       "      <td>06:24:35 AM</td>\n",
       "      <td>2016-04-12</td>\n",
       "      <td>LAPAN</td>\n",
       "      <td>RIAU</td>\n",
       "      <td>ROKAN HILIR</td>\n",
       "      <td>KECAMATAN BANGKO PUSAKO</td>\n",
       "      <td>SUNGAI MENASIB</td>\n",
       "      <td>NaN</td>\n",
       "      <td>2016</td>\n",
       "      <td>4</td>\n",
       "      <td>12</td>\n",
       "    </tr>\n",
       "    <tr>\n",
       "      <th>2</th>\n",
       "      <td>1.580030</td>\n",
       "      <td>100.855000</td>\n",
       "      <td>LPN-NPP</td>\n",
       "      <td>06:24:35 AM</td>\n",
       "      <td>2016-04-12</td>\n",
       "      <td>LAPAN</td>\n",
       "      <td>RIAU</td>\n",
       "      <td>ROKAN HILIR</td>\n",
       "      <td>KECAMATAN TANAH PUTIH</td>\n",
       "      <td>BALAM SEMPURNA</td>\n",
       "      <td>NaN</td>\n",
       "      <td>2016</td>\n",
       "      <td>4</td>\n",
       "      <td>12</td>\n",
       "    </tr>\n",
       "    <tr>\n",
       "      <th>3</th>\n",
       "      <td>4.272360</td>\n",
       "      <td>97.747800</td>\n",
       "      <td>LPN-NPP</td>\n",
       "      <td>06:24:35 AM</td>\n",
       "      <td>2016-04-12</td>\n",
       "      <td>LAPAN</td>\n",
       "      <td>ACEH</td>\n",
       "      <td>ACEH TAMIANG</td>\n",
       "      <td>TAMIANG HULU</td>\n",
       "      <td>BATU BEDULANG</td>\n",
       "      <td>NaN</td>\n",
       "      <td>2016</td>\n",
       "      <td>4</td>\n",
       "      <td>12</td>\n",
       "    </tr>\n",
       "    <tr>\n",
       "      <th>4</th>\n",
       "      <td>1.656640</td>\n",
       "      <td>100.891000</td>\n",
       "      <td>LPN-NPP</td>\n",
       "      <td>06:24:35 AM</td>\n",
       "      <td>2016-04-12</td>\n",
       "      <td>LAPAN</td>\n",
       "      <td>RIAU</td>\n",
       "      <td>ROKAN HILIR</td>\n",
       "      <td>KECAMATAN BANGKO PUSAKO</td>\n",
       "      <td>SUNGAI MENASIB</td>\n",
       "      <td>NaN</td>\n",
       "      <td>2016</td>\n",
       "      <td>4</td>\n",
       "      <td>12</td>\n",
       "    </tr>\n",
       "    <tr>\n",
       "      <th>...</th>\n",
       "      <td>...</td>\n",
       "      <td>...</td>\n",
       "      <td>...</td>\n",
       "      <td>...</td>\n",
       "      <td>...</td>\n",
       "      <td>...</td>\n",
       "      <td>...</td>\n",
       "      <td>...</td>\n",
       "      <td>...</td>\n",
       "      <td>...</td>\n",
       "      <td>...</td>\n",
       "      <td>...</td>\n",
       "      <td>...</td>\n",
       "      <td>...</td>\n",
       "    </tr>\n",
       "    <tr>\n",
       "      <th>7834</th>\n",
       "      <td>-4.437215</td>\n",
       "      <td>104.505066</td>\n",
       "      <td>LPN-NPP</td>\n",
       "      <td>12:44:37 PM</td>\n",
       "      <td>2020-09-16</td>\n",
       "      <td>LAPAN</td>\n",
       "      <td>LAMPUNG</td>\n",
       "      <td>WAYKANAN</td>\n",
       "      <td>BLAMBANGAN UMPU</td>\n",
       "      <td>TANJUNG RAYA GIHAM</td>\n",
       "      <td>NaN</td>\n",
       "      <td>2020</td>\n",
       "      <td>9</td>\n",
       "      <td>16</td>\n",
       "    </tr>\n",
       "    <tr>\n",
       "      <th>7835</th>\n",
       "      <td>0.785336</td>\n",
       "      <td>99.191719</td>\n",
       "      <td>LPN-NPP</td>\n",
       "      <td>13:04:01 PM</td>\n",
       "      <td>2020-10-17</td>\n",
       "      <td>LAPAN</td>\n",
       "      <td>SUMATERA UTARA</td>\n",
       "      <td>MANDAILINGNATAL</td>\n",
       "      <td>NATAL</td>\n",
       "      <td>PARDAMEAN BARU</td>\n",
       "      <td>NaN</td>\n",
       "      <td>2020</td>\n",
       "      <td>10</td>\n",
       "      <td>17</td>\n",
       "    </tr>\n",
       "    <tr>\n",
       "      <th>7836</th>\n",
       "      <td>-0.470491</td>\n",
       "      <td>100.017670</td>\n",
       "      <td>LPN-NPP</td>\n",
       "      <td>13:04:01 PM</td>\n",
       "      <td>2020-10-17</td>\n",
       "      <td>LAPAN</td>\n",
       "      <td>SUMATERA BARAT</td>\n",
       "      <td>PADANGPARIAMAN</td>\n",
       "      <td>BATANG GASAN</td>\n",
       "      <td>MALAI BAWAH</td>\n",
       "      <td>NaN</td>\n",
       "      <td>2020</td>\n",
       "      <td>10</td>\n",
       "      <td>17</td>\n",
       "    </tr>\n",
       "    <tr>\n",
       "      <th>7837</th>\n",
       "      <td>1.306781</td>\n",
       "      <td>99.927521</td>\n",
       "      <td>LPN-NPP</td>\n",
       "      <td>13:04:01 PM</td>\n",
       "      <td>2020-10-17</td>\n",
       "      <td>LAPAN</td>\n",
       "      <td>SUMATERA UTARA</td>\n",
       "      <td>PADANG LAWAS</td>\n",
       "      <td>BARUMUN TENGAH</td>\n",
       "      <td>SIPAGABU</td>\n",
       "      <td>NaN</td>\n",
       "      <td>2020</td>\n",
       "      <td>10</td>\n",
       "      <td>17</td>\n",
       "    </tr>\n",
       "    <tr>\n",
       "      <th>7838</th>\n",
       "      <td>0.593332</td>\n",
       "      <td>101.315201</td>\n",
       "      <td>LPN-NPP</td>\n",
       "      <td>13:16:47 PM</td>\n",
       "      <td>2020-10-27</td>\n",
       "      <td>LAPAN</td>\n",
       "      <td>RIAU</td>\n",
       "      <td>KAMPAR</td>\n",
       "      <td>KECAMATAN TAPUNG</td>\n",
       "      <td>RUMBAI BUKIT</td>\n",
       "      <td>NaN</td>\n",
       "      <td>2020</td>\n",
       "      <td>10</td>\n",
       "      <td>27</td>\n",
       "    </tr>\n",
       "  </tbody>\n",
       "</table>\n",
       "<p>7839 rows × 14 columns</p>\n",
       "</div>"
      ],
      "text/plain": [
       "           lat        long satellite     time_utc        date source  \\\n",
       "0     1.649680  100.892000   LPN-NPP  06:24:35 AM  2016-04-12  LAPAN   \n",
       "1     1.648530  100.884000   LPN-NPP  06:24:35 AM  2016-04-12  LAPAN   \n",
       "2     1.580030  100.855000   LPN-NPP  06:24:35 AM  2016-04-12  LAPAN   \n",
       "3     4.272360   97.747800   LPN-NPP  06:24:35 AM  2016-04-12  LAPAN   \n",
       "4     1.656640  100.891000   LPN-NPP  06:24:35 AM  2016-04-12  LAPAN   \n",
       "...        ...         ...       ...          ...         ...    ...   \n",
       "7834 -4.437215  104.505066   LPN-NPP  12:44:37 PM  2020-09-16  LAPAN   \n",
       "7835  0.785336   99.191719   LPN-NPP  13:04:01 PM  2020-10-17  LAPAN   \n",
       "7836 -0.470491  100.017670   LPN-NPP  13:04:01 PM  2020-10-17  LAPAN   \n",
       "7837  1.306781   99.927521   LPN-NPP  13:04:01 PM  2020-10-17  LAPAN   \n",
       "7838  0.593332  101.315201   LPN-NPP  13:16:47 PM  2020-10-27  LAPAN   \n",
       "\n",
       "            provinsi         kab_kota                  kec2006  \\\n",
       "0               RIAU      ROKAN HILIR  KECAMATAN BANGKO PUSAKO   \n",
       "1               RIAU      ROKAN HILIR  KECAMATAN BANGKO PUSAKO   \n",
       "2               RIAU      ROKAN HILIR    KECAMATAN TANAH PUTIH   \n",
       "3               ACEH     ACEH TAMIANG             TAMIANG HULU   \n",
       "4               RIAU      ROKAN HILIR  KECAMATAN BANGKO PUSAKO   \n",
       "...              ...              ...                      ...   \n",
       "7834         LAMPUNG         WAYKANAN          BLAMBANGAN UMPU   \n",
       "7835  SUMATERA UTARA  MANDAILINGNATAL                    NATAL   \n",
       "7836  SUMATERA BARAT   PADANGPARIAMAN             BATANG GASAN   \n",
       "7837  SUMATERA UTARA     PADANG LAWAS           BARUMUN TENGAH   \n",
       "7838            RIAU           KAMPAR         KECAMATAN TAPUNG   \n",
       "\n",
       "               desaa2006 nama_kaw  year  month  day  \n",
       "0         SUNGAI MENASIB      NaN  2016      4   12  \n",
       "1         SUNGAI MENASIB      NaN  2016      4   12  \n",
       "2         BALAM SEMPURNA      NaN  2016      4   12  \n",
       "3          BATU BEDULANG      NaN  2016      4   12  \n",
       "4         SUNGAI MENASIB      NaN  2016      4   12  \n",
       "...                  ...      ...   ...    ...  ...  \n",
       "7834  TANJUNG RAYA GIHAM      NaN  2020      9   16  \n",
       "7835      PARDAMEAN BARU      NaN  2020     10   17  \n",
       "7836         MALAI BAWAH      NaN  2020     10   17  \n",
       "7837            SIPAGABU      NaN  2020     10   17  \n",
       "7838        RUMBAI BUKIT      NaN  2020     10   27  \n",
       "\n",
       "[7839 rows x 14 columns]"
      ]
     },
     "execution_count": 7,
     "metadata": {},
     "output_type": "execute_result"
    }
   ],
   "source": [
    "# changing the date data type to datetime\n",
    "# Adding date day, month, and year to the data frame\n",
    "\n",
    "year =[]\n",
    "month=[]\n",
    "day  =[]\n",
    "\n",
    "\n",
    "if 'year' not in sumatera_only.columns.values:\n",
    "    date_formatted = sumatera_only['date'].astype('datetime64[ns]')\n",
    "    date = pd.DatetimeIndex(sumatera_only['date'])\n",
    "    sumatera_only.insert(len(sumatera_only.columns), \"year\", date.year, True) # adding column\n",
    "    sumatera_only.insert(len(sumatera_only.columns), \"month\", date.month, True) # adding column\n",
    "    sumatera_only.insert(len(sumatera_only.columns), \"day\", date.day, True) # adding column\n",
    "\n",
    "\n",
    "sumatera_only = sumatera_only.sort_values(\n",
    "    by=['date'], \n",
    "    ascending=True,\n",
    "    ignore_index=True,\n",
    "    )\n",
    "\n",
    "sumatera_only"
   ]
  },
  {
   "cell_type": "code",
   "execution_count": 8,
   "metadata": {},
   "outputs": [],
   "source": [
    "import ee\n",
    "import folium\n",
    "from folium import plugins"
   ]
  },
  {
   "cell_type": "code",
   "execution_count": 9,
   "metadata": {},
   "outputs": [
    {
     "data": {
      "text/html": [
       "<p>To authorize access needed by Earth Engine, open the following\n",
       "        URL in a web browser and follow the instructions:</p>\n",
       "        <p><a href=https://accounts.google.com/o/oauth2/auth?client_id=517222506229-vsmmajv00ul0bs7p89v5m89qs8eb9359.apps.googleusercontent.com&scope=https%3A%2F%2Fwww.googleapis.com%2Fauth%2Fearthengine+https%3A%2F%2Fwww.googleapis.com%2Fauth%2Fdevstorage.full_control&redirect_uri=urn%3Aietf%3Awg%3Aoauth%3A2.0%3Aoob&response_type=code&code_challenge=deI_2xbNruewbfNMwgzthFFz_rj7MNxJ5IDAn0kTc2Y&code_challenge_method=S256>https://accounts.google.com/o/oauth2/auth?client_id=517222506229-vsmmajv00ul0bs7p89v5m89qs8eb9359.apps.googleusercontent.com&scope=https%3A%2F%2Fwww.googleapis.com%2Fauth%2Fearthengine+https%3A%2F%2Fwww.googleapis.com%2Fauth%2Fdevstorage.full_control&redirect_uri=urn%3Aietf%3Awg%3Aoauth%3A2.0%3Aoob&response_type=code&code_challenge=deI_2xbNruewbfNMwgzthFFz_rj7MNxJ5IDAn0kTc2Y&code_challenge_method=S256</a></p>\n",
       "        <p>The authorization workflow will generate a code, which you\n",
       "        should paste in the box below</p>\n",
       "        "
      ],
      "text/plain": [
       "<IPython.core.display.HTML object>"
      ]
     },
     "metadata": {},
     "output_type": "display_data"
    },
    {
     "name": "stdout",
     "output_type": "stream",
     "text": [
      "Enter verification code: 4/1AX4XfWilxWj41MrT9Pcu-02giCFcCVnMxJKgN3eAbeErKKEGiNYjo5Sq45s\n",
      "\n",
      "Successfully saved authorization token.\n"
     ]
    }
   ],
   "source": [
    "# Authenticate earth engine servers\n",
    "ee.Authenticate()\n",
    "\n",
    "#initialize API\n",
    "ee.Initialize()"
   ]
  },
  {
   "cell_type": "code",
   "execution_count": 10,
   "metadata": {},
   "outputs": [],
   "source": [
    "\n",
    "# sentinel 2 cloud masking \n",
    "def s2CloudMasking(image):\n",
    "    qa = image.select('QA60')\n",
    "    # Bits 10 and 11 are clouds and cirrus, respectively.\n",
    "    cloudBitMask = 1 << 10\n",
    "    cirrusBitMask = 1 << 11\n",
    "\n",
    "    #Both flags should be set to zero, indicating clear conditions.\n",
    "    mask = qa.bitwiseAnd(cloudBitMask).eq(0).And(qa.bitwiseAnd(cirrusBitMask).eq(0))\n",
    "\n",
    "    return image.updateMask(mask)\\\n",
    "                .divide(10000)\\\n",
    "\n",
    "def get_sentinel_prefire_satellite_image_urls(\n",
    "        satellite_name, situation, \n",
    "        dataset, scale, file_format, \n",
    "        folder_path):\n",
    "    \n",
    "    dictionary = {\n",
    "        'folderpaths': [],\n",
    "        'filenames': [],\n",
    "        'urls': [],\n",
    "    }\n",
    "    \n",
    "    for row in range(1):\n",
    "#         file_path = folder_path + f\"\\\\{row}\"\\\n",
    "        file_path = os.path.join(folder_path, str(row))\n",
    "        if os.path.exists(file_path):\n",
    "            print(\"data already exist\")\n",
    "        else:\n",
    "            os.mkdir(file_path)\n",
    "        \n",
    "        # Set coordinates\n",
    "        print(f\"row {row} requesting...\")\n",
    "        coordinates = [float(dataset.lat.values[row]), float(dataset.long.values[row])]\n",
    "        region = ee.Geometry.Rectangle([coordinates[1]-0.2, coordinates[0]-0.2, \n",
    "                                        coordinates[1]+0.2, coordinates[0]+0.2]);\n",
    "\n",
    "\n",
    "        # filter image collection\n",
    "        # set base date\n",
    "        base_date = ee.Date(dataset.date.values[row])\n",
    "\n",
    "        # set geometry point\n",
    "        point = ee.Geometry.Point(dataset.long.values[row], dataset.lat.values[row])\n",
    "\n",
    "        # pre fire\n",
    "        prefire_date_start = ee.Date(base_date.advance(-365, 'day'))\n",
    "        prefire_date_end = ee.Date(base_date.advance(-1, 'day'))\n",
    "\n",
    "        # sentinel image pre wildfire event\n",
    "        prefire_collection = ee.ImageCollection(satellite_name)\\\n",
    "                                   .filterDate(prefire_date_start, prefire_date_end)\\\n",
    "                                   .filterBounds(region)\\\n",
    "                                   .map(s2CloudMasking)\\\n",
    "                                   .median()\n",
    "\n",
    "        # Calculate NBR for pre fire\n",
    "        pre_nbr = prefire_collection.normalizedDifference(['B8', 'B12'])\n",
    "\n",
    "\n",
    "        # post fire\n",
    "        postfire_date_start = ee.Date(base_date.advance(1, 'day'))\n",
    "        postfire_date_end = ee.Date(base_date.advance(365, 'day'))\n",
    "\n",
    "        # sentinel image post wildfire event\n",
    "        postfire_collection = ee.ImageCollection(satellite_name)\\\n",
    "                                   .filterDate(postfire_date_start, postfire_date_end)\\\n",
    "                                   .filterBounds(region)\\\n",
    "                                   .map(s2CloudMasking)\\\n",
    "                                   .median()\n",
    "\n",
    "        # Calculate NBR for post fire\n",
    "        post_nbr = postfire_collection.normalizedDifference(['B8', 'B12'])\n",
    "\n",
    "        # calculate delta NBR\n",
    "        delta_nbr = pre_nbr.subtract(post_nbr).rename('DELTA_NBR')\n",
    "        postfire_collection = postfire_collection.addBands(delta_nbr)\n",
    "                    \n",
    "\n",
    "        filenames= ['dnbr_b12','b8_b4','b3_b2']\n",
    "        bands =  [\n",
    "            ['DELTA_NBR', 'B12'], \n",
    "            ['B8', 'B4'], \n",
    "            ['B3', 'B2'],\n",
    "            ]\n",
    "        \n",
    "        dictionary['folderpaths'].extend([file_path for i in range(3)])\n",
    "        dictionary['filenames'].extend(filenames)\n",
    "        \n",
    "        for i in range(len(filenames)):\n",
    "            if filenames[i] not in os.listdir():\n",
    "                download_url = postfire_collection.getDownloadURL(\n",
    "                    {\n",
    "                        'region': region,\n",
    "                        'bands' : bands[i],\n",
    "                        'scale' : scale,\n",
    "                        'format': file_format\n",
    "                    }\n",
    "                )\n",
    "                dictionary['urls'].append(download_url)\n",
    "\n",
    "#                 print(f\"download data from {download_url}\")\n",
    "#                 urllib.request.urlretrieve(download_url, filenames[i])\n",
    "#                 print(f\"{download_url} downloaded\")\n",
    "            else:\n",
    "                print(f\"{bands[i]} already exist\")\n",
    "        \n",
    "    return dictionary"
   ]
  },
  {
   "cell_type": "code",
   "execution_count": 11,
   "metadata": {},
   "outputs": [
    {
     "name": "stdout",
     "output_type": "stream",
     "text": [
      "OS directory is changed to D:\n",
      "['System Volume Information', 'Install SanDisk Software for Windows.exe', 'Install SanDisk Software for Mac.dmg', '$RECYCLE.BIN', 'wildfire-sumatera-dataset']\n",
      "D:\\\n",
      "wildfire-sumatera-dataset already exist\n"
     ]
    }
   ],
   "source": [
    "# create folder fot .tiff files\n",
    "D_DIR = \"D:\"\n",
    "\n",
    "WILDFIRE_SUMATERA_DATASET_DIR = \"wildfire-sumatera-dataset\"\n",
    "WILDFIRE_SUMATERA_GEOTIFF_DIR = \"wildfire-sumatera-geotiff\"\n",
    "\n",
    "SENTINEL_DIR = \"sentinel-2\"\n",
    "\n",
    "SENTINEL_FOLDER = f\"{D_DIR}\\\\{WILDFIRE_SUMATERA_DATASET_DIR}\\\\{WILDFIRE_SUMATERA_GEOTIFF_DIR}\\\\{SENTINEL_DIR}\"\n",
    "SENTINEL_PREFIRE_FOLDER = f\"{D_DIR}\\\\{WILDFIRE_SUMATERA_DATASET_DIR}\\\\{WILDFIRE_SUMATERA_GEOTIFF_DIR}\\\\{SENTINEL_DIR}\\\\prefire\"\n",
    "SENTINEL_POSTFIRE_FOLDER = f\"{D_DIR}\\\\{WILDFIRE_SUMATERA_DATASET_DIR}\\\\{WILDFIRE_SUMATERA_GEOTIFF_DIR}\\\\{SENTINEL_DIR}\\\\postfire\"\n",
    "\n",
    "if D_DIR is not os.getcwd():\n",
    "    os.chdir(D_DIR)\n",
    "    print(f\"OS directory is changed to {D_DIR}\")\n",
    "    print(os.listdir())\n",
    "    print(os.getcwd())\n",
    "    \n",
    "if WILDFIRE_SUMATERA_DATASET_DIR not in os.listdir():\n",
    "    os.mkdir(WILDFIRE_SUMATERA_DATASET_DIR)\n",
    "    print(f\"{WILDFIRE_SUMATERA_DATASET_DIR} has been created\")\n",
    "else:\n",
    "    os.chdir(D_DIR+WILDFIRE_SUMATERA_DATASET_DIR)\n",
    "    print(f\"{WILDFIRE_SUMATERA_DATASET_DIR} already exist\")\n"
   ]
  },
  {
   "cell_type": "code",
   "execution_count": 12,
   "metadata": {},
   "outputs": [
    {
     "name": "stdout",
     "output_type": "stream",
     "text": [
      "D:\\wildfire-sumatera-dataset\\wildfire-sumatera-geotiff\\sentinel-2\\prefire already exist\n",
      "D:\\wildfire-sumatera-dataset\\wildfire-sumatera-geotiff\\sentinel-2\\postfire already exist\n"
     ]
    }
   ],
   "source": [
    "# check whether the folder is exists\n",
    "if not os.path.exists(SENTINEL_PREFIRE_FOLDER):\n",
    "    os.makedirs(SENTINEL_PREFIRE_FOLDER)\n",
    "    print(f\"{SENTINEL_PREFIRE_FOLDER} has been successfully create\")\n",
    "else:\n",
    "    print(f\"{SENTINEL_PREFIRE_FOLDER} already exist\")\n",
    "\n",
    "if not os.path.exists(SENTINEL_POSTFIRE_FOLDER):\n",
    "    os.makedirs(SENTINEL_POSTFIRE_FOLDER)\n",
    "    print(f\"{SENTINEL_POSTFIRE_FOLDER} has been successfully create\")\n",
    "else:\n",
    "    print(f\"{SENTINEL_POSTFIRE_FOLDER} already exist\")"
   ]
  },
  {
   "cell_type": "code",
   "execution_count": 13,
   "metadata": {
    "scrolled": true
   },
   "outputs": [
    {
     "name": "stdout",
     "output_type": "stream",
     "text": [
      "data already exist\n",
      "row 0 requesting...\n",
      "{'folderpaths': ['D:\\\\wildfire-sumatera-dataset\\\\wildfire-sumatera-geotiff\\\\sentinel-2\\\\prefire\\\\0', 'D:\\\\wildfire-sumatera-dataset\\\\wildfire-sumatera-geotiff\\\\sentinel-2\\\\prefire\\\\0', 'D:\\\\wildfire-sumatera-dataset\\\\wildfire-sumatera-geotiff\\\\sentinel-2\\\\prefire\\\\0'], 'filenames': ['dnbr_b12', 'b8_b4', 'b3_b2'], 'urls': ['https://earthengine.googleapis.com/v1alpha/projects/earthengine-legacy/thumbnails/421a4fda6772f841ee5899ffeb6dd29a-3fcfc41b65719092debaf706a2cc803c:getPixels', 'https://earthengine.googleapis.com/v1alpha/projects/earthengine-legacy/thumbnails/c9386f7f3df2fe72d43d8e9c330880e1-a21d66dd80cfcd770f4916d22f6b26d2:getPixels', 'https://earthengine.googleapis.com/v1alpha/projects/earthengine-legacy/thumbnails/75a58e16a77f4b10f02ad057e504b851-31db69cb7813f64e922c6b0f734076f1:getPixels']}\n"
     ]
    }
   ],
   "source": [
    "# get list of url path for downloading .tiff files\n",
    "dictionary = get_sentinel_prefire_satellite_image_urls(\n",
    "    satellite_name='COPERNICUS/S2',\n",
    "    situation='prefire',                                                                     \n",
    "    dataset=sumatera_only,\n",
    "    scale=50,\n",
    "    file_format='GeoTIFF',\n",
    "    folder_path=SENTINEL_PREFIRE_FOLDER,\n",
    ")\n",
    "\n",
    "print(dictionary)\n",
    "\n",
    "# sentinel_postfire_url_list = get_sentinel_satellite_image_urls(satellite_name='COPERNICUS/S2',\n",
    "#                                                                situation='postfire',\n",
    "#                                                                dataset=sumatera_only,\n",
    "#                                                                scale=50,\n",
    "#                                                                file_format='GeoTIFF',\n",
    "#                                                                folder_path=SENTINEL_POSTFIRE_FOLDER\n",
    "#                                                                )\n",
    "# print(\"done\")\n",
    "\n",
    "# print(sentinel_prefire_url_list)\n",
    "# print(sentinel_postfire_url_list)\n"
   ]
  },
  {
   "cell_type": "code",
   "execution_count": 14,
   "metadata": {},
   "outputs": [
    {
     "name": "stdout",
     "output_type": "stream",
     "text": [
      "3\n",
      "3\n",
      "3\n"
     ]
    }
   ],
   "source": [
    "print(len(dictionary['folderpaths']))\n",
    "print(len(dictionary['filenames']))\n",
    "print(len(dictionary['urls']))"
   ]
  },
  {
   "cell_type": "code",
   "execution_count": 15,
   "metadata": {},
   "outputs": [],
   "source": [
    "def download(filepath, url, filename):\n",
    "    if filenames not in os.listdir():\n",
    "        print(f\"download data from {url}\")\n",
    "        urllib.request.urlretrieve(url, filename)\n",
    "        print(f\"{url} downloaded\")\n",
    "    else:\n",
    "        print(f\"{filename} already exist\")\n"
   ]
  },
  {
   "cell_type": "code",
   "execution_count": null,
   "metadata": {
    "scrolled": true
   },
   "outputs": [],
   "source": [
    "# for i in range(len(filenames)):\n",
    "#     if filenames[i] not in os.listdir():\n",
    "#         urls.append(urls[i])\n",
    "#         print(f\"download data from {urls[i]}\")\n",
    "#         urllib.request.urlretrieve(urls[i], filenames[i])\n",
    "#         print(f\"{urls[i]} downloaded\")\n",
    "#     else:\n",
    "#         print(f\"{filenames[i]} already exist\")\n",
    "\n",
    "with multiprocessing.Pool(processes=10) as pool:\n",
    "    results = pool.map(download, (dictionary['folderpaths'], dictionary['filenames'], dictionary['urls']))\n",
    "    \n",
    "#                dictionary['urls'].append(urls)\n",
    "#     download(filepath = dictionary['filepath'][0], \n",
    "#     urls = dictionary['urls'][0], \n",
    "#     filenames = ['dnbr_b12','b8_b4','b3_b2'])\n",
    "if __name__ == '__main__':\n",
    "    pool = Pool(10)\n",
    "    for download in pool.imap_unordered(dictionary['folderpaths'], dictionary['filenames'], dictionary['urls']):\n",
    "        print(download)"
   ]
  },
  {
   "cell_type": "code",
   "execution_count": 1,
   "metadata": {},
   "outputs": [],
   "source": [
    "import sys"
   ]
  },
  {
   "cell_type": "code",
   "execution_count": 4,
   "metadata": {},
   "outputs": [
    {
     "data": {
      "text/plain": [
       "<ipykernel.iostream.OutStream at 0x1bc9c16f760>"
      ]
     },
     "execution_count": 4,
     "metadata": {},
     "output_type": "execute_result"
    }
   ],
   "source": [
    "sys.stderr"
   ]
  },
  {
   "cell_type": "code",
   "execution_count": 56,
   "metadata": {},
   "outputs": [
    {
     "name": "stdout",
     "output_type": "stream",
     "text": [
      "4\n",
      "8\n"
     ]
    }
   ],
   "source": [
    "# 10 bit representasion of 2\n",
    "x = 2 \n",
    "print(2<<1)\n",
    "# 10(0) bit representasion of 2\n",
    "\n",
    "# 10 bit representasion of 2\n",
    "x = 2 \n",
    "print(2<<2)\n",
    "# 10(00) bit representasion of 2"
   ]
  },
  {
   "cell_type": "code",
   "execution_count": 73,
   "metadata": {},
   "outputs": [
    {
     "name": "stdout",
     "output_type": "stream",
     "text": [
      "0\n",
      "3\n"
     ]
    }
   ],
   "source": [
    "# 10 bit representasion of 2\n",
    "\"\"\"\n",
    "10 & 01  = 00\n",
    "because 0 & 1 = 0\n",
    "\"\"\"\n",
    "x = 2 \n",
    "print(x&1)\n",
    "# 10 bit representasion of 2\n",
    "\"\"\"\n",
    "10 & 11  = 11\n",
    "because 0 | 1 = 1 and 1 | 1 = 1\n",
    "\"\"\"\n",
    "x = 2\n",
    "print(x|3)"
   ]
  },
  {
   "cell_type": "code",
   "execution_count": 74,
   "metadata": {},
   "outputs": [
    {
     "name": "stdout",
     "output_type": "stream",
     "text": [
      "Hasilnya 10666\n"
     ]
    }
   ],
   "source": [
    "a = 6\n",
    "b = 4\n",
    "print(\"Hasilnya \" + str (a + b) + \"6\" * 3)"
   ]
  },
  {
   "cell_type": "code",
   "execution_count": 84,
   "metadata": {},
   "outputs": [
    {
     "name": "stdout",
     "output_type": "stream",
     "text": [
      "Collecting black\n",
      "  Downloading black-22.1.0-cp38-cp38-win_amd64.whl (1.2 MB)\n",
      "     ---------------------------------------- 1.2/1.2 MB 1.4 MB/s eta 0:00:00\n",
      "Collecting platformdirs>=2\n",
      "  Downloading platformdirs-2.5.0-py3-none-any.whl (14 kB)\n",
      "Collecting tomli>=1.1.0\n",
      "  Downloading tomli-2.0.1-py3-none-any.whl (12 kB)\n",
      "Collecting mypy-extensions>=0.4.3\n",
      "  Downloading mypy_extensions-0.4.3-py2.py3-none-any.whl (4.5 kB)\n",
      "Collecting pathspec>=0.9.0\n",
      "  Downloading pathspec-0.9.0-py2.py3-none-any.whl (31 kB)\n",
      "Requirement already satisfied: typing-extensions>=3.10.0.0 in c:\\users\\user\\anaconda3\\lib\\site-packages (from black) (4.0.0)\n",
      "Collecting click>=8.0.0\n",
      "  Downloading click-8.0.3-py3-none-any.whl (97 kB)\n",
      "     ---------------------------------------- 97.5/97.5 KB 2.8 MB/s eta 0:00:00\n",
      "Requirement already satisfied: colorama in c:\\users\\user\\anaconda3\\lib\\site-packages (from click>=8.0.0->black) (0.4.4)\n",
      "Installing collected packages: mypy-extensions, tomli, platformdirs, pathspec, click, black\n",
      "  Attempting uninstall: click\n",
      "    Found existing installation: click 7.1.2\n",
      "    Uninstalling click-7.1.2:\n",
      "      Successfully uninstalled click-7.1.2\n",
      "Successfully installed black-22.1.0 click-8.0.3 mypy-extensions-0.4.3 pathspec-0.9.0 platformdirs-2.5.0 tomli-2.0.1\n"
     ]
    }
   ],
   "source": [
    "!pip install black"
   ]
  },
  {
   "cell_type": "code",
   "execution_count": 87,
   "metadata": {},
   "outputs": [
    {
     "ename": "NameError",
     "evalue": "name 'black' is not defined",
     "output_type": "error",
     "traceback": [
      "\u001b[1;31m---------------------------------------------------------------------------\u001b[0m",
      "\u001b[1;31mNameError\u001b[0m                                 Traceback (most recent call last)",
      "\u001b[1;32m<ipython-input-87-811c6c07c28e>\u001b[0m in \u001b[0;36m<module>\u001b[1;34m\u001b[0m\n\u001b[1;32m----> 1\u001b[1;33m \u001b[0mblack\u001b[0m \u001b[1;33m-\u001b[0m\u001b[1;33m-\u001b[0m\u001b[0mcheck\u001b[0m\u001b[1;33m\u001b[0m\u001b[1;33m\u001b[0m\u001b[0m\n\u001b[0m",
      "\u001b[1;31mNameError\u001b[0m: name 'black' is not defined"
     ]
    }
   ],
   "source": []
  },
  {
   "cell_type": "code",
   "execution_count": 89,
   "metadata": {},
   "outputs": [],
   "source": [
    "def action(input) -> str:\n",
    "    return input"
   ]
  },
  {
   "cell_type": "code",
   "execution_count": 100,
   "metadata": {},
   "outputs": [
    {
     "name": "stdout",
     "output_type": "stream",
     "text": [
      "no\n"
     ]
    }
   ],
   "source": [
    "x = False\n",
    "if x:\n",
    "    print(\"yes\")\n",
    "else:\n",
    "    print(\"no\")"
   ]
  },
  {
   "cell_type": "code",
   "execution_count": 101,
   "metadata": {},
   "outputs": [
    {
     "name": "stdout",
     "output_type": "stream",
     "text": [
      "no\n"
     ]
    }
   ],
   "source": [
    "print(\"yes\") if x else print(\"no\")"
   ]
  },
  {
   "cell_type": "code",
   "execution_count": 102,
   "metadata": {},
   "outputs": [
    {
     "data": {
      "text/plain": [
       "'no'"
      ]
     },
     "execution_count": 102,
     "metadata": {},
     "output_type": "execute_result"
    }
   ],
   "source": [
    "(\"no\", \"yes\")[x]"
   ]
  },
  {
   "cell_type": "code",
   "execution_count": 112,
   "metadata": {},
   "outputs": [],
   "source": [
    "def returnInput(input_):\n",
    "    return input_"
   ]
  },
  {
   "cell_type": "code",
   "execution_count": 113,
   "metadata": {},
   "outputs": [
    {
     "name": "stdout",
     "output_type": "stream",
     "text": [
      "ada data\n"
     ]
    }
   ],
   "source": [
    "pesan = returnInput(input_=\"ada data\") or \"Tidak ada data\"\n",
    "print(pesan)"
   ]
  },
  {
   "cell_type": "code",
   "execution_count": 117,
   "metadata": {},
   "outputs": [],
   "source": [
    "def emptyFunction():\n",
    "    pass"
   ]
  },
  {
   "cell_type": "code",
   "execution_count": 121,
   "metadata": {},
   "outputs": [],
   "source": [
    "for i in range(8):\n",
    "    continue\n",
    "    print(i)"
   ]
  },
  {
   "cell_type": "code",
   "execution_count": 126,
   "metadata": {},
   "outputs": [
    {
     "name": "stdout",
     "output_type": "stream",
     "text": [
      "Please enter an integer (type exit to exit): as\n",
      "error: <class 'ValueError'>\n",
      "Please enter an integer (type exit to exit): 1\n",
      "got integer: 1\n",
      "Please enter an integer (type exit to exit): 2\n",
      "got integer: 2\n",
      "error: <class 'KeyboardInterrupt'>\n",
      "Please enter an integer (type exit to exit): exit\n"
     ]
    }
   ],
   "source": [
    "import sys\n",
    "data=''\n",
    "while(data!='exit'):\n",
    "    try:\n",
    "        data=input('Please enter an integer (type exit to exit): ')\n",
    "        print('got integer: {}'.format(int(data)))\n",
    "    except:\n",
    "        if data == 'exit':\n",
    "            pass  # exit gracefully without prompt any error\n",
    "        else:\n",
    "            print('error: {}'.format(sys.exc_info()[0]))"
   ]
  },
  {
   "cell_type": "code",
   "execution_count": 134,
   "metadata": {},
   "outputs": [
    {
     "name": "stdout",
     "output_type": "stream",
     "text": [
      "error (<class 'ZeroDivisionError'>, ZeroDivisionError('division by zero'), <traceback object at 0x000001E348B45580>)\n"
     ]
    }
   ],
   "source": [
    "z = 0\n",
    "try:\n",
    "    x = 1 / z\n",
    "    print(x)\n",
    "except:\n",
    "    print(f'error {sys.exc_info()}')"
   ]
  },
  {
   "cell_type": "code",
   "execution_count": 138,
   "metadata": {},
   "outputs": [
    {
     "name": "stdout",
     "output_type": "stream",
     "text": [
      "file note found bitches\n"
     ]
    }
   ],
   "source": [
    "try:\n",
    "    with open('asidjiasd.txt') as file:\n",
    "        print(file.read())\n",
    "except (FileNotFoundError, ):\n",
    "    print('file note found bitches')"
   ]
  },
  {
   "cell_type": "code",
   "execution_count": 153,
   "metadata": {},
   "outputs": [
    {
     "name": "stdout",
     "output_type": "stream",
     "text": [
      "rata-rata: 10.0\n",
      "gk ada error\n",
      "all statements are executed\n"
     ]
    }
   ],
   "source": [
    "d = {'ratarata': '10.0'}\n",
    "try:\n",
    "    print('rata-rata: {}'.format(d['ratarata']))\n",
    "except KeyError:                                 \n",
    "    print('kunci tidak ditemukan di dictionary')\n",
    "except ValueError:              \n",
    "    print('nilai tidak sesuai')\n",
    "else:\n",
    "    print('gk ada error')\n",
    "finally:\n",
    "    print('all statements are executed')\n",
    "  \n",
    "\n",
    "\n",
    "\n",
    "\n",
    "\n",
    "\n",
    "# kunci tidak ditemukan di dictionary\n",
    "# >>> try:\n",
    "# ...     print('rata-rata: {}'.format(d['ratarata']/3))\n",
    "# ... except KeyError:                                 \n",
    "# ...     print('kunci tidak ditemukan di dictionary')\n",
    "# ... except (ValueError, TypeError):\n",
    "# ...     print('nilai atau tipe tidak sesuai')\n",
    "# ...  \n",
    "# nilai atau tipe tidak sesuai\n",
    "# >>> try:\n",
    "# ...     print('pembulatan rata-rata: {}'.format(int(d['ratarata'])))\n",
    "# ... except (ValueError, TypeError) as e:         \n",
    "# ...     print('penangan kesalahan: {}'.format(e))\n",
    "# ...  \n",
    "# penangan kesalahan: invalid literal for int() with base 10: '10.0'"
   ]
  },
  {
   "cell_type": "code",
   "execution_count": 172,
   "metadata": {},
   "outputs": [],
   "source": [
    "text_1 = \"text 1\"\n",
    "text_2 = \"text 2\"\n",
    "\n",
    "\n",
    "def keyword_or_positional(arg_2, *arg_1):\n",
    "    for i in arg_1:\n",
    "        print(i)\n",
    "    pass\n",
    "\n",
    "\n",
    "def positional(arg_1, arg_2):\n",
    "    print(arg_1, arg_2)\n",
    "    pass\n"
   ]
  },
  {
   "cell_type": "code",
   "execution_count": 163,
   "metadata": {},
   "outputs": [
    {
     "name": "stdout",
     "output_type": "stream",
     "text": [
      "text 1 text 2\n",
      "text 1 text 2\n"
     ]
    }
   ],
   "source": [
    "keyword_or_positional(arg_1=text_1, arg_2=text_2)\n",
    "keyword_or_positional(arg_2=text_2, arg_1=text_1)"
   ]
  },
  {
   "cell_type": "code",
   "execution_count": 161,
   "metadata": {},
   "outputs": [
    {
     "name": "stdout",
     "output_type": "stream",
     "text": [
      "text 1 text 2\n",
      "text 2 text 1\n"
     ]
    }
   ],
   "source": [
    "positional(text_1, text_2) # text_1 mapped to arg1 and text_2 mapped to arg2\n",
    "positional(text_2, text_1) # text_2 mapped to arg1 and text_1 mapped to arg2"
   ]
  },
  {
   "cell_type": "code",
   "execution_count": 164,
   "metadata": {},
   "outputs": [],
   "source": [
    "def compare(a, b, *, key=None):\n",
    "    return a>b"
   ]
  },
  {
   "cell_type": "code",
   "execution_count": 169,
   "metadata": {},
   "outputs": [
    {
     "ename": "TypeError",
     "evalue": "compare() got an unexpected keyword argument 'Key'",
     "output_type": "error",
     "traceback": [
      "\u001b[1;31m---------------------------------------------------------------------------\u001b[0m",
      "\u001b[1;31mTypeError\u001b[0m                                 Traceback (most recent call last)",
      "\u001b[1;32m<ipython-input-169-240577c38e80>\u001b[0m in \u001b[0;36m<module>\u001b[1;34m\u001b[0m\n\u001b[1;32m----> 1\u001b[1;33m \u001b[0mcompare\u001b[0m\u001b[1;33m(\u001b[0m\u001b[1;36m3\u001b[0m\u001b[1;33m,\u001b[0m \u001b[1;36m2\u001b[0m\u001b[1;33m,\u001b[0m \u001b[0mKey\u001b[0m\u001b[1;33m=\u001b[0m\u001b[1;34m\"makan\"\u001b[0m\u001b[1;33m)\u001b[0m\u001b[1;33m\u001b[0m\u001b[1;33m\u001b[0m\u001b[0m\n\u001b[0m",
      "\u001b[1;31mTypeError\u001b[0m: compare() got an unexpected keyword argument 'Key'"
     ]
    }
   ],
   "source": [
    "compare(3, 2)"
   ]
  }
 ],
 "metadata": {
  "kernelspec": {
   "display_name": "license-plate-object-detection (pipenv)",
   "language": "python",
   "name": "python3"
  },
  "language_info": {
   "codemirror_mode": {
    "name": "ipython",
    "version": 3
   },
   "file_extension": ".py",
   "mimetype": "text/x-python",
   "name": "python",
   "nbconvert_exporter": "python",
   "pygments_lexer": "ipython3",
   "version": "3.8.0"
  }
 },
 "nbformat": 4,
 "nbformat_minor": 4
}
